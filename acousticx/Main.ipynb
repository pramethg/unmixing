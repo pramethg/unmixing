{
 "cells": [
  {
   "cell_type": "code",
   "execution_count": null,
   "id": "b2b10ed6-899e-400b-84aa-e16ce547d7eb",
   "metadata": {},
   "outputs": [],
   "source": [
    "%load_ext autoreload\n",
    "%autoreload 2"
   ]
  },
  {
   "cell_type": "code",
   "execution_count": null,
   "id": "d054508c-99b1-4069-81ed-beea9d6c534b",
   "metadata": {},
   "outputs": [],
   "source": [
    "import os\n",
    "import sys\n",
    "import math\n",
    "import mat73\n",
    "import warnings\n",
    "import numpy as np\n",
    "from tqdm import trange\n",
    "import matplotlib.pyplot as plt\n",
    "from scipy.optimize import nnls\n",
    "from sklearn.decomposition import NMF\n",
    "from scipy.io import loadmat, savemat\n",
    "from matplotlib.patches import Rectangle\n",
    "from sklearn.decomposition import FastICA\n",
    "from matplotlib.colors import ListedColormap\n",
    "from utils import *\n",
    "\n",
    "warnings.filterwarnings('ignore')\n",
    "%matplotlib inline"
   ]
  },
  {
   "cell_type": "code",
   "execution_count": null,
   "id": "5f166e52-c1ef-4dfd-afa0-578393db5b5b",
   "metadata": {},
   "outputs": [],
   "source": [
    "abs_coeff, skin_dict, water_dict = {}, {}, {}\n",
    "wave_abs = np.load('../data/hbo2hbchpr_57.npy')\n",
    "plt3d = loadmat('../data/3DPlot.mat')\n",
    "X, Y = plt3d['x'], plt3d['y']\n",
    "abs_dict = {}\n",
    "\n",
    "for idx, wave in enumerate(np.arange(700, 981, 5)):\n",
    "    abs_coeff[wave] = wave_abs[idx]\n",
    "    skin = (0.244 + 85.3 * math.exp(-(wave - 154)/66.2)) / 100\n",
    "    melanin = (1.70 * 1e12 * math.pow(wave, -3.48)) / 100\n",
    "    skin_dict[wave] = np.array([skin, melanin])\n",
    "    abs_dict[int(wave)] = list(np.append(np.append(wave_abs[idx], skin), melanin))\n",
    "\n",
    "wave_list = [750, 800, 850]\n",
    "coeffs = np.vstack([abs_coeff[wave] for wave in wave_list])\n",
    "fcoeffs = np.vstack([np.append(abs_coeff[wave], skin_dict[wave], axis = 0) for wave in wave_list])\n",
    "norm_coeffs = np.array([fcoeffs.T[idx] / max(coeffs.T[idx]) for idx in range(coeffs.shape[1])]).T\n",
    "legend = ['HbO', 'Hb', 'Cholesterol']\n",
    "melorder = ['HbO2', 'Hb', 'Cholesterol', 'Melanin']\n",
    "skinorder = ['HbO2', 'Hb', 'Cholesterol', 'Skin Baseline']\n",
    "hbhbo2fat = np.copy(coeffs)[:, [0, 1, 2]]\n",
    "hbhbo2fatskin = np.copy(fcoeffs[:, [0, 1, 2, 4]])\n",
    "hbhbo2fatmelanin = np.copy(fcoeffs[:, [0, 1, 2, 5]])\n",
    "\n",
    "mixed_coeffs = []\n",
    "for idx in [760, 808, 915]:\n",
    "    if idx == 808:\n",
    "        ids = 0.69 * abs_coeff[805] + 0.31 * abs_coeff[940]\n",
    "    else:\n",
    "        ids = abs_coeff[idx]\n",
    "    mixed_coeffs.append(ids)\n",
    "mixed_coeffs = np.array(mixed_coeffs)[:, :3]"
   ]
  },
  {
   "cell_type": "markdown",
   "id": "806a2c24-b79e-4402-b25c-287b511b9355",
   "metadata": {},
   "source": [
    "# Hypercapnia"
   ]
  },
  {
   "cell_type": "code",
   "execution_count": null,
   "id": "c8acc7e9-e85e-4b90-923f-c1d694e37eab",
   "metadata": {},
   "outputs": [],
   "source": [
    "fidx = 0\n",
    "dir = \"../../acousticx/test/\"\n",
    "fdir = sorted([file for file in os.listdir(dir) if file.endswith(\".mat\")])\n",
    "pafile = loadmat(os.path.join(dir, fdir[fidx]))['beamformed']\n",
    "pafile = pafile.transpose((2, 0, 1))\n",
    "paw1, paw2, frames = pafile[list(range(0, pafile.shape[0], 2))], pafile[list(range(1, pafile.shape[0], 2))], pafile.shape[0]\n",
    "rois = textparse(os.path.join(dir, fdir[0].split(\".\")[0] + \".txt\"))"
   ]
  },
  {
   "cell_type": "code",
   "execution_count": null,
   "id": "bcee6459-00cf-46be-8dd1-43de3a424160",
   "metadata": {},
   "outputs": [],
   "source": [
    "waves = [760, 808]\n",
    "nrois = round(len(rois) / 2)\n",
    "ratios, imgfile = 2 * [(0, 0.2), (0.2, 0.8), (0.8, 1)], []\n",
    "wave_dict = {760: 0, 808: 1, 915: 2}\n",
    "wave_list = [wave_dict[idx] for idx in waves]\n",
    "swv = [str(wave) if wave != 808 else \"808/940\" for wave in waves]\n",
    "title = [f'PRE CO2 {swv[0]}NM', f'CO2 {swv[0]}NM', f'POST CO2 {swv[0]}NM', f'PRE CO2 {swv[1]}NM', f'CO2 {swv[1]}NM', f'POST CO2 {swv[1]}NM']\n",
    "for idx in range(len(ratios)):\n",
    "    if idx < 3:\n",
    "        imgfile.append(np.mean(paw1[round(ratios[idx][0] * frames / 2): round(ratios[idx][1] * frames / 2), rois[-1][0]: rois[-1][1], rois[-1][2]: rois[-1][3]], axis = 0))\n",
    "    else:\n",
    "        imgfile.append(np.mean(paw2[round(ratios[idx][0] * frames / 2): round(ratios[idx][1] * frames / 2), rois[-1][0]: rois[-1][1], rois[-1][2]: rois[-1][3]], axis = 0))\n",
    "imgfile = np.array(imgfile)\n",
    "plt.figure(figsize = (12, 8))\n",
    "for idx in range(len(imgfile)):\n",
    "    plt.subplot(2, 3, idx + 1)\n",
    "    if idx < 3:\n",
    "        plt.imshow(imgfile[idx], cmap = 'hot', extent = [0, 1, 0, 1])\n",
    "        # plt.clim([0, 4e6])\n",
    "    else:\n",
    "        plt.imshow(imgfile[idx], cmap = 'hot', extent = [0, 1, 0, 1])\n",
    "        # plt.clim([0, 1e6])\n",
    "    plt.colorbar()\n",
    "    plt.title(title[idx])"
   ]
  },
  {
   "cell_type": "code",
   "execution_count": null,
   "id": "7a9347c9-22d2-444b-86ee-2fead5f00226",
   "metadata": {},
   "outputs": [],
   "source": [
    "title_order = ['PRE CO2', 'CO2', 'POST CO2']\n",
    "order = ['HbO', 'Hb', 'Cholesterol']\n",
    "imgdict, didx = {}, 0\n",
    "for i in [[0, 1], [0, 2], [1, 2]]:\n",
    "    for idx, j in enumerate([[0, 3], [1, 4], [2, 5]]):\n",
    "        imgdict[didx] = (title_order[idx], i, j)\n",
    "        didx += 1\n",
    "imgidx = 1\n",
    "plt.figure(figsize = (24, 10))\n",
    "for idx in range(9):\n",
    "    exp_unmixed = run_linear_unmixing(normalize(imgfile[imgdict[idx][2], :, :].copy()), mixed_coeffs[wave_list][:, imgdict[idx][1]])\n",
    "    for xidx in range(2):\n",
    "        plt.subplot(3, 6, imgidx)\n",
    "        plt.imshow(exp_unmixed[:, :, xidx], cmap = \"hot\", extent = [0, 1, 0, 1])\n",
    "        plt.colorbar()\n",
    "        plt.title(f\"{imgdict[idx][0]} {order[imgdict[idx][1][xidx]]}\")\n",
    "        # plt.clim([0, np.max(exp_unmixed)])\n",
    "        imgidx += 1\n",
    "plt.tight_layout()\n",
    "plt.show()"
   ]
  },
  {
   "cell_type": "code",
   "execution_count": null,
   "id": "3a4bbe75-7d0e-490c-be25-66d90b293139",
   "metadata": {},
   "outputs": [],
   "source": [
    "plt.figure(figsize = (15, 4))\n",
    "for idx in range(3):\n",
    "    exp_unmixed = run_linear_unmixing(normalize(imgfile[imgdict[idx][2], :, :].copy()), mixed_coeffs[wave_list][:, imgdict[idx][1]])\n",
    "    plt.subplot(1, 3, idx + 1)\n",
    "    plt.imshow(exp_unmixed[:, :, 0] / (exp_unmixed[:, :, 0] + exp_unmixed[:, :, 1]), cmap = 'jet', extent = [0, 1, 0, 1])\n",
    "    plt.colorbar()\n",
    "    plt.title(f\"{imgdict[idx][0]}\")\n",
    "    plt.clim([0.6, 1])\n",
    "plt.show()"
   ]
  },
  {
   "cell_type": "code",
   "execution_count": null,
   "id": "dd741a66-1fe0-431d-ba3a-cdbee8498393",
   "metadata": {},
   "outputs": [],
   "source": [
    "plt.figure(figsize = (25, 8))\n",
    "plt.subplot(2, 5, 1)\n",
    "plt.imshow(paw1[0, rois[-1][0]: rois[-1][1], rois[-1][2]: rois[-1][3]], cmap = \"hot\", extent = [0, 1, 0, 1])\n",
    "plt.title(f\"{swv[0]} ROIs\")\n",
    "plt.colorbar()\n",
    "plt.subplot(2, 5, 6)\n",
    "plt.imshow(paw2[0, rois[-1][0]: rois[-1][1], rois[-1][2]: rois[-1][3]], cmap = \"hot\", extent = [0, 1, 0, 1])\n",
    "plt.title(f\"{swv[1]} ROIs\")\n",
    "plt.colorbar()\n",
    "for idx, subidx in enumerate(list(set(list(range(10))) - set([0, 5]))):\n",
    "    plt.subplot(2, 5, subidx + 1)\n",
    "    if idx < nrois:\n",
    "        mean = np.mean(paw1[:, rois[idx][0]:rois[idx][1], rois[idx][2]:rois[idx][3]], axis = (1, 2))\n",
    "    else:\n",
    "        mean = np.mean(paw2[:, rois[idx][0]:rois[idx][1], rois[idx][2]:rois[idx][3]], axis = (1, 2))\n",
    "    mavg = moving_average(mean, 5)\n",
    "    plt.plot(mean, \"b\")\n",
    "    plt.plot(mavg, 'r')\n",
    "    plt.axvspan(round(frames * ratios[1][0] / 2), round(frames * ratios[1][1] / 2), color = 'coral', alpha = 0.4, lw = 0)\n",
    "    plt.title(f'{waves[0] if idx < len(rois) else waves[1]} NM ROI - {(idx + 1) if idx < 4 else (idx - 3)}')\n",
    "plt.show()"
   ]
  },
  {
   "cell_type": "code",
   "execution_count": null,
   "id": "d935287a-457e-4e75-8e0f-df865dd4cff7",
   "metadata": {},
   "outputs": [],
   "source": [
    "fig, axs = plt.subplots(2, 5, figsize = (25, 8))\n",
    "roiplot(axs[0, 0], paw1[0, rois[-1][0]:rois[-1][1], rois[-1][2]:rois[-1][3]], rois[: 4], title = f\"{swv[0]} ROIs\")\n",
    "roiplot(axs[1, 0], paw2[0, rois[-1][0]:rois[-1][1], rois[-1][2]:rois[-1][3]], rois[4:8], title = f\"{swv[1]} ROIs\")\n",
    "for idx, subidx in enumerate(list(set(list(range(10))) - set([0, 5]))):\n",
    "    ax = axs[subidx // 5, subidx % 5]\n",
    "    if idx < nrois:\n",
    "        mean = np.mean(paw1[:, rois[idx][0]:rois[idx][1], rois[idx][2]:rois[idx][3]], axis=(1, 2))\n",
    "    else:\n",
    "        mean = np.mean(paw2[:, rois[idx][0]:rois[idx][1], rois[idx][2]:rois[idx][3]], axis=(1, 2))\n",
    "    mavg = moving_average(mean, 5)\n",
    "    ax.plot(mean, \"b\")\n",
    "    ax.plot(mavg, 'r')\n",
    "    ax.axvspan(round(frames * ratios[1][0] / 2), round(frames * ratios[1][1] / 2), color='coral', alpha=0.4, lw=0)\n",
    "    ax.set_title(f'{swv[0] if idx < nrois else swv[1]} NM ROI - {(idx + 1) if idx < 4 else (idx - 3)}')\n",
    "plt.show()"
   ]
  }
 ],
 "metadata": {
  "kernelspec": {
   "display_name": "Python 3 (ipykernel)",
   "language": "python",
   "name": "python3"
  },
  "language_info": {
   "codemirror_mode": {
    "name": "ipython",
    "version": 3
   },
   "file_extension": ".py",
   "mimetype": "text/x-python",
   "name": "python",
   "nbconvert_exporter": "python",
   "pygments_lexer": "ipython3",
   "version": "3.11.3"
  }
 },
 "nbformat": 4,
 "nbformat_minor": 5
}
