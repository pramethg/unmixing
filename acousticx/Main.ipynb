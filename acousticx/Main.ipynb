{
 "cells": [
  {
   "cell_type": "code",
   "execution_count": null,
   "id": "b2b10ed6-899e-400b-84aa-e16ce547d7eb",
   "metadata": {},
   "outputs": [],
   "source": [
    "%load_ext autoreload\n",
    "%autoreload 2"
   ]
  },
  {
   "cell_type": "code",
   "execution_count": null,
   "id": "d054508c-99b1-4069-81ed-beea9d6c534b",
   "metadata": {},
   "outputs": [],
   "source": [
    "import os\n",
    "import sys\n",
    "import math\n",
    "import time\n",
    "import json\n",
    "import mat73\n",
    "import warnings\n",
    "import numpy as np\n",
    "from tqdm import trange\n",
    "import matplotlib.pyplot as plt\n",
    "from scipy.optimize import nnls\n",
    "import matplotlib.image as mpimg\n",
    "from sklearn.decomposition import NMF\n",
    "from scipy.io import loadmat, savemat\n",
    "from matplotlib.patches import Rectangle\n",
    "from sklearn.decomposition import FastICA\n",
    "from matplotlib.colors import ListedColormap\n",
    "from utils import *\n",
    "\n",
    "warnings.filterwarnings('ignore')\n",
    "%matplotlib inline"
   ]
  },
  {
   "cell_type": "code",
   "execution_count": null,
   "id": "5f166e52-c1ef-4dfd-afa0-578393db5b5b",
   "metadata": {},
   "outputs": [],
   "source": [
    "abs_coeff, skin_dict, water_dict = {}, {}, {}\n",
    "wave_abs = np.load('../data/hbo2hbchpr_57.npy')\n",
    "plt3d = loadmat('../data/3DPlot.mat')\n",
    "X, Y = plt3d['x'], plt3d['y']\n",
    "abs_dict = {}\n",
    "\n",
    "for idx, wave in enumerate(np.arange(700, 981, 5)):\n",
    "    abs_coeff[wave] = wave_abs[idx]\n",
    "    skin = (0.244 + 85.3 * math.exp(-(wave - 154)/66.2)) / 100\n",
    "    melanin = (1.70 * 1e12 * math.pow(wave, -3.48)) / 100\n",
    "    skin_dict[wave] = np.array([skin, melanin])\n",
    "    abs_dict[int(wave)] = list(np.append(np.append(wave_abs[idx], skin), melanin))\n",
    "\n",
    "wave_list = [750, 800, 850]\n",
    "coeffs = np.vstack([abs_coeff[wave] for wave in wave_list])\n",
    "fcoeffs = np.vstack([np.append(abs_coeff[wave], skin_dict[wave], axis = 0) for wave in wave_list])\n",
    "norm_coeffs = np.array([fcoeffs.T[idx] / max(coeffs.T[idx]) for idx in range(coeffs.shape[1])]).T\n",
    "legend = ['HbO', 'Hb', 'Cholesterol']\n",
    "melorder = ['HbO2', 'Hb', 'Cholesterol', 'Melanin']\n",
    "skinorder = ['HbO2', 'Hb', 'Cholesterol', 'Skin Baseline']\n",
    "hbhbo2fat = np.copy(coeffs)[:, [0, 1, 2]]\n",
    "hbhbo2fatskin = np.copy(fcoeffs[:, [0, 1, 2, 4]])\n",
    "hbhbo2fatmelanin = np.copy(fcoeffs[:, [0, 1, 2, 5]])\n",
    "\n",
    "mixed_coeffs = []\n",
    "for idx in [760, 808, 915]:\n",
    "    if idx == 808:\n",
    "        ids = 0.69 * abs_coeff[805] + 0.31 * abs_coeff[940]\n",
    "    else:\n",
    "        ids = abs_coeff[idx]\n",
    "    mixed_coeffs.append(ids)\n",
    "mixed_coeffs = np.array(mixed_coeffs)[:, :3]"
   ]
  },
  {
   "cell_type": "code",
   "execution_count": null,
   "id": "395958d8-bedc-47a8-a99b-08f144729449",
   "metadata": {},
   "outputs": [],
   "source": [
    "with open(\"exps.json\") as file:\n",
    "    expdict = json.load(file)"
   ]
  },
  {
   "cell_type": "markdown",
   "id": "806a2c24-b79e-4402-b25c-287b511b9355",
   "metadata": {},
   "source": [
    "# Hypercapnia"
   ]
  },
  {
   "cell_type": "code",
   "execution_count": null,
   "id": "47778518-e432-4f83-8907-05f1aa50907d",
   "metadata": {},
   "outputs": [],
   "source": [
    "dir = \"/media/prameth/Inland SSD/AcousticX Data/data/beam-5/11012023/\"\n",
    "fdir = sorted([file for file in os.listdir(dir) if file.endswith(\".mat\")])\n",
    "for idx in range(len(fdir)):\n",
    "    print(idx, fdir[idx])"
   ]
  },
  {
   "cell_type": "code",
   "execution_count": null,
   "id": "c8acc7e9-e85e-4b90-923f-c1d694e37eab",
   "metadata": {},
   "outputs": [],
   "source": [
    "fidx = 0\n",
    "pafile = loadmat(os.path.join(dir, fdir[fidx]))['beamformed']\n",
    "pafile = pafile.transpose((2, 0, 1))\n",
    "paw1, paw2, frames = pafile[list(range(0, pafile.shape[0], 2))], pafile[list(range(1, pafile.shape[0], 2))], pafile.shape[0]\n",
    "rois = textparse(os.path.join(dir, fdir[0].split(\".\")[0] + \".txt\"))\n",
    "wave_dict = {760: 0, 808: 1, 915: 2}\n",
    "waves = [int(fdir[fidx].split(\"_\")[1]), int(fdir[fidx].split(\"_\")[3])]\n",
    "suptitle = f\"{dir.split('/')[-2]} {expdict[dir.split('/')[-2]]} {' '.join([str(waves[i] if waves[i]!=808 else '808/940') + 'NM' for i in range(len(waves))])}\"\n",
    "print(suptitle)"
   ]
  },
  {
   "cell_type": "code",
   "execution_count": null,
   "id": "bcee6459-00cf-46be-8dd1-43de3a424160",
   "metadata": {},
   "outputs": [],
   "source": [
    "nrois = round(len(rois) / 2)\n",
    "ratios, imgfile = 2 * [(0, 0.2), (0.2, 0.8), (0.8, 1)], []\n",
    "wave_list = [wave_dict[idx] for idx in waves]\n",
    "swv = [str(wave) if wave != 808 else \"808/940\" for wave in waves]\n",
    "title = [f'PRE CO2 {swv[0]}NM', f'CO2 {swv[0]}NM', f'POST CO2 {swv[0]}NM', f'PRE CO2 {swv[1]}NM', f'CO2 {swv[1]}NM', f'POST CO2 {swv[1]}NM']\n",
    "for idx in range(len(ratios)):\n",
    "    if idx < 3:\n",
    "        imgfile.append(np.mean(paw1[round(ratios[idx][0] * frames / 2): round(ratios[idx][1] * frames / 2), rois[8][0]: rois[8][1], rois[8][2]: rois[8][3]], axis = 0))\n",
    "    else:\n",
    "        imgfile.append(np.mean(paw2[round(ratios[idx][0] * frames / 2): round(ratios[idx][1] * frames / 2), rois[8][0]: rois[8][1], rois[8][2]: rois[8][3]], axis = 0))\n",
    "imgfile = np.array(imgfile)\n",
    "plt.figure(figsize = (12, 7))\n",
    "for idx in range(len(imgfile)):\n",
    "    plt.subplot(2, 3, idx + 1)\n",
    "    if idx < 3:\n",
    "        plt.imshow(imgfile[idx], cmap = 'hot', extent = [0, 1, 0, 1])\n",
    "        plt.clim([0, np.max(imgfile[:3])])\n",
    "    else:\n",
    "        plt.imshow(imgfile[idx], cmap = 'hot', extent = [0, 1, 0, 1])\n",
    "        plt.clim([0, np.max(imgfile[3:])])\n",
    "    plt.colorbar()\n",
    "    plt.title(title[idx])\n",
    "plt.suptitle(t = f\"{suptitle} Multi-Wavelength\")\n",
    "plt.tight_layout()\n",
    "plt.show()"
   ]
  },
  {
   "cell_type": "code",
   "execution_count": null,
   "id": "7a9347c9-22d2-444b-86ee-2fead5f00226",
   "metadata": {},
   "outputs": [],
   "source": [
    "title_order = ['PRE CO2', 'CO2', 'POST CO2']\n",
    "order = ['HbO', 'Hb', 'Cholesterol']\n",
    "imgdict, didx = {}, 0\n",
    "for i in [[0, 1], [0, 2], [1, 2]]:\n",
    "    for idx, j in enumerate([[0, 3], [1, 4], [2, 5]]):\n",
    "        imgdict[didx] = (title_order[idx], i, j)\n",
    "        didx += 1\n",
    "imgidx = 1\n",
    "plt.figure(figsize = (24, 11))\n",
    "for idx in range(9):\n",
    "    exp_unmixed = run_linear_unmixing(normalize(imgfile[imgdict[idx][2], :, :].copy()), mixed_coeffs[wave_list][:, imgdict[idx][1]])\n",
    "    for xidx in range(2):\n",
    "        plt.subplot(3, 6, imgidx)\n",
    "        plt.imshow(exp_unmixed[:, :, xidx], cmap = \"hot\", extent = [0, 1, 0, 1])\n",
    "        plt.colorbar()\n",
    "        plt.title(f\"{imgdict[idx][0]} {order[imgdict[idx][1][xidx]]}\")\n",
    "        # plt.clim([0, np.max(exp_unmixed)])\n",
    "        imgidx += 1\n",
    "plt.suptitle(t = f\"{suptitle} Linear Unmixing\")\n",
    "plt.tight_layout()\n",
    "plt.show()"
   ]
  },
  {
   "cell_type": "code",
   "execution_count": null,
   "id": "a956e6e3-ccaf-424a-9704-3919bd240fc8",
   "metadata": {},
   "outputs": [],
   "source": [
    "unmixarr = run_linear_unmixing(normalize(imgfile[imgdict[3][2], :, :]).copy(), mixed_coeffs[wave_list][:, imgdict[3][1]])\n",
    "plt.figure(figsize = (10, 5))\n",
    "plt.subplot(1, 2, 1)\n",
    "plt.imshow(unmixarr[:, :, 0], cmap = \"hot\", extent = [0, 1, 0, 1])\n",
    "plt.colorbar()\n",
    "plt.subplot(1, 2, 2)\n",
    "plt.imshow(unmixarr[:, :, 1], cmap = \"hot\", extent = [0, 1, 0, 1])\n",
    "plt.colorbar()"
   ]
  },
  {
   "cell_type": "code",
   "execution_count": null,
   "id": "3a4bbe75-7d0e-490c-be25-66d90b293139",
   "metadata": {},
   "outputs": [],
   "source": [
    "plt.figure(figsize = (15, 4))\n",
    "for idx in range(3):\n",
    "    exp_unmixed = run_linear_unmixing(normalize(imgfile[imgdict[idx][2], :, :].copy()), mixed_coeffs[wave_list][:, imgdict[idx][1]])\n",
    "    plt.subplot(1, 3, idx + 1)\n",
    "    plt.imshow(exp_unmixed[:, :, 0] / (exp_unmixed[:, :, 0] + exp_unmixed[:, :, 1]), cmap = 'bwr', extent = [0, 1, 0, 1])\n",
    "    plt.colorbar()\n",
    "    plt.title(f\"{imgdict[idx][0]}\")\n",
    "    plt.clim([0.6, 1])\n",
    "plt.suptitle(f\"{suptitle} SO$_{2}$ Distribution\")\n",
    "plt.tight_layout()\n",
    "plt.show()"
   ]
  },
  {
   "cell_type": "code",
   "execution_count": null,
   "id": "dd741a66-1fe0-431d-ba3a-cdbee8498393",
   "metadata": {},
   "outputs": [],
   "source": [
    "means, mavgs, same_size, window_size = [], [], False, 20\n",
    "plt.figure(figsize = (25, 8))\n",
    "plt.subplot(2, 5, 1)\n",
    "plt.imshow(mpimg.imread(os.path.join(dir, fdir[fidx].split(\".\")[0] + \"-1.jpg\"))[50:580, 100:700])\n",
    "plt.axis('off')\n",
    "plt.title(f\"{swv[0]} ROIs\")\n",
    "plt.subplot(2, 5, 6)\n",
    "plt.imshow(mpimg.imread(os.path.join(dir, fdir[fidx].split(\".\")[0] + \"-2.jpg\"))[50:580, 100:700])\n",
    "plt.axis('off')\n",
    "plt.title(f\"{swv[1]} ROIs\")\n",
    "for idx, subidx in enumerate(list(set(list(range(10))) - set([0, 5]))):\n",
    "    plt.subplot(2, 5, subidx + 1)\n",
    "    if idx < nrois:\n",
    "        mean = np.mean(paw1[:, rois[idx][0]:rois[idx][1], rois[idx][2]:rois[idx][3]], axis = (1, 2))\n",
    "    else:\n",
    "        mean = np.mean(paw2[:, rois[idx][0]:rois[idx][1], rois[idx][2]:rois[idx][3]], axis = (1, 2))\n",
    "    mavg = moving_average_same(mean, window_size) if same_size else moving_average(mean, window_size)\n",
    "    plt.plot(np.arange(len(mean[:-1])), mean[:-1], \"b\")\n",
    "    plt.plot(np.arange((window_size / 2), (len(mavg[:-1]) + (window_size / 2))), mavg[:-1], 'r')\n",
    "    means.append(mean)\n",
    "    mavgs.append(mavg)\n",
    "    plt.axvspan(round(frames * ratios[1][0] / 2), round(frames * ratios[1][1] / 2), color = 'coral', alpha = 0.4, lw = 0)\n",
    "    plt.title(f'{waves[0] if idx < len(rois) else waves[1]} NM ROI - {(idx + 1) if idx < 4 else (idx - 3)}')\n",
    "plt.suptitle(t = f\"{suptitle} Time Series Intensity\")\n",
    "plt.tight_layout()\n",
    "plt.show()"
   ]
  },
  {
   "cell_type": "code",
   "execution_count": null,
   "id": "fdc82095-a81f-49b5-bb37-370a8db2e198",
   "metadata": {},
   "outputs": [],
   "source": [
    "indices, min_y = [4, 5, 7], 0.8\n",
    "colors = ['b', 'g', 'r']\n",
    "for j, idx in enumerate(indices):\n",
    "  y = np.array(mavgs[idx][:-1])\n",
    "  x = np.linspace(0, 2.5, len(y))\n",
    "  y = y / max(y)\n",
    "  plt.plot(x, y, colors[j], lw = 2.5)\n",
    "  plt.text(-0.1, y[0], f'{j + 1}', fontsize = 20, fontweight = 'bold', color = colors[j])\n",
    "  plt.axvspan(0.5, 2.0, color = 'lightskyblue', alpha = 0.3, lw = 0)\n",
    "plt.xticks([0, 0.5, 2, 2.5], weight = 'bold', fontsize = 15)\n",
    "plt.yticks([min_y, (1 + min_y)/2, 1], weight = 'bold', fontsize = 15)\n",
    "plt.xlabel('Time (minutes)', fontsize = 18, fontweight = 'bold')\n",
    "plt.ylabel('Norm PA Amp (a.u.)', fontweight = 'bold', fontsize = 18)\n",
    "plt.tight_layout()\n",
    "plt.show()"
   ]
  },
  {
   "cell_type": "code",
   "execution_count": null,
   "id": "d935287a-457e-4e75-8e0f-df865dd4cff7",
   "metadata": {},
   "outputs": [],
   "source": [
    "plt.figure(figsize = (25, 4))\n",
    "plt.subplot(1, 5, 1)\n",
    "plt.imshow(mpimg.imread(os.path.join(dir, fdir[fidx].split(\".\")[0] + \"-3.jpg\"))[50:580, 100:700])\n",
    "plt.axis('off')\n",
    "plt.title(f\"{swv[0]} {swv[1]} SO2 ROIs\")\n",
    "for idx, ridx in enumerate(list(range(9, 13))):\n",
    "    plt.subplot(1, 5, idx + 2)\n",
    "    mean = np.mean(so2stack[:, rois[ridx][0]:rois[ridx][1], rois[ridx][2]:rois[ridx][3]], axis = (1, 2))\n",
    "    mavg = moving_average(mean, 5)\n",
    "    plt.plot(mean[:-1], \"b\")\n",
    "    plt.plot(mavg[:-1], 'r')\n",
    "    plt.axvspan(round(frames * ratios[1][0] / 2), round(frames * ratios[1][1] / 2), color = 'coral', alpha = 0.4, lw = 0)\n",
    "    plt.title(f'ROI {idx + 1}')\n",
    "plt.suptitle(t = f\"{suptitle} SO$_{2}$ Time Series Analysis\")\n",
    "plt.tight_layout()\n",
    "plt.show()"
   ]
  },
  {
   "cell_type": "code",
   "execution_count": null,
   "id": "76a6f10a-efcb-4224-8b3b-b636c6c4957a",
   "metadata": {},
   "outputs": [],
   "source": [
    "indunmix = []\n",
    "for idx in range(3):\n",
    "    for cidx in range(3):\n",
    "        indunmix.append(run_linear_unmixing(normalize(imgfile[imgdict[idx][2]].copy()), mixed_coeffs[wave_list][:, [cidx]])[:, :, 0])\n",
    "indunmix = np.array(indunmix)\n",
    "\n",
    "plt.figure(figsize = (12, 12))\n",
    "for idx in range(9):\n",
    "    plt.subplot(3, 3, idx + 1)\n",
    "    plt.imshow(indunmix[idx], cmap = 'hot', extent = [0, 1, 0, 1])\n",
    "    plt.colorbar()\n",
    "    plt.title(f\"{imgdict[idx][0]} {legend[idx % 3]}\")\n",
    "plt.tight_layout()\n",
    "plt.show()"
   ]
  }
 ],
 "metadata": {
  "kernelspec": {
   "display_name": "Python 3 (ipykernel)",
   "language": "python",
   "name": "python3"
  },
  "language_info": {
   "codemirror_mode": {
    "name": "ipython",
    "version": 3
   },
   "file_extension": ".py",
   "mimetype": "text/x-python",
   "name": "python",
   "nbconvert_exporter": "python",
   "pygments_lexer": "ipython3",
   "version": "3.11.3"
  }
 },
 "nbformat": 4,
 "nbformat_minor": 5
}
