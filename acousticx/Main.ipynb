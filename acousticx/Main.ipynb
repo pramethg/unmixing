{
 "cells": [
  {
   "cell_type": "code",
   "execution_count": null,
   "id": "d054508c-99b1-4069-81ed-beea9d6c534b",
   "metadata": {},
   "outputs": [],
   "source": [
    "import os\n",
    "import sys\n",
    "import math\n",
    "import mat73\n",
    "import warnings\n",
    "import numpy as np\n",
    "from tqdm import trange\n",
    "import matplotlib.pyplot as plt\n",
    "from scipy.optimize import nnls\n",
    "from sklearn.decomposition import NMF\n",
    "from scipy.io import loadmat, savemat\n",
    "from matplotlib.patches import Rectangle\n",
    "from sklearn.decomposition import FastICA\n",
    "from matplotlib.colors import ListedColormap\n",
    "from utils import *\n",
    "\n",
    "warnings.filterwarnings('ignore')\n",
    "%matplotlib inline"
   ]
  },
  {
   "cell_type": "code",
   "execution_count": null,
   "id": "5f166e52-c1ef-4dfd-afa0-578393db5b5b",
   "metadata": {},
   "outputs": [],
   "source": [
    "abs_coeff, skin_dict, water_dict = {}, {}, {}\n",
    "wave_abs = np.load('../data/hbo2hbchpr_57.npy')\n",
    "plt3d = loadmat('../data/3DPlot.mat')\n",
    "X, Y = plt3d['x'], plt3d['y']\n",
    "abs_dict = {}\n",
    "\n",
    "for idx, wave in enumerate(np.arange(700, 981, 5)):\n",
    "    abs_coeff[wave] = wave_abs[idx]\n",
    "    skin = (0.244 + 85.3 * math.exp(-(wave - 154)/66.2)) / 100\n",
    "    melanin = (1.70 * 1e12 * math.pow(wave, -3.48)) / 100\n",
    "    skin_dict[wave] = np.array([skin, melanin])\n",
    "    abs_dict[int(wave)] = list(np.append(np.append(wave_abs[idx], skin), melanin))\n",
    "\n",
    "wave_list = [750, 800, 850]\n",
    "coeffs = np.vstack([abs_coeff[wave] for wave in wave_list])\n",
    "fcoeffs = np.vstack([np.append(abs_coeff[wave], skin_dict[wave], axis = 0) for wave in wave_list])\n",
    "norm_coeffs = np.array([fcoeffs.T[idx] / max(coeffs.T[idx]) for idx in range(coeffs.shape[1])]).T\n",
    "legend = ['HbO', 'Hb', 'Cholesterol']\n",
    "melorder = ['HbO2', 'Hb', 'Cholesterol', 'Melanin']\n",
    "skinorder = ['HbO2', 'Hb', 'Cholesterol', 'Skin Baseline']\n",
    "hbhbo2fat = np.copy(coeffs)[:, [0, 1, 2]]\n",
    "hbhbo2fatskin = np.copy(fcoeffs[:, [0, 1, 2, 4]])\n",
    "hbhbo2fatmelanin = np.copy(fcoeffs[:, [0, 1, 2, 5]])\n",
    "\n",
    "mixed_coeffs = []\n",
    "for idx in [760, 808, 915]:\n",
    "    if idx == 808:\n",
    "        ids = 0.69 * abs_coeff[805] + 0.31 * abs_coeff[940]\n",
    "    else:\n",
    "        ids = abs_coeff[idx]\n",
    "    # print(f'{idx} {ids[0]:.6f} {ids[1]:.6f} {ids[2]:.6f} {ids[3]:.6f}')\n",
    "    mixed_coeffs.append(ids)\n",
    "mixed_coeffs = np.array(mixed_coeffs)[:, :3]"
   ]
  },
  {
   "cell_type": "markdown",
   "id": "806a2c24-b79e-4402-b25c-287b511b9355",
   "metadata": {},
   "source": [
    "# Hypercapnia"
   ]
  },
  {
   "cell_type": "code",
   "execution_count": null,
   "id": "fe18e4c4-b63e-4639-96ce-ec7ddc9c08b4",
   "metadata": {},
   "outputs": [],
   "source": [
    "imgfile = loadmat(\"../../acousticx/data/beamformed/11242023-HYP-915-808-LOC2.mat\")['beamformed']\n",
    "waves = [915, 808]\n",
    "wave_dict = {760: 0, 808: 1, 915: 2}\n",
    "wave_list = [wave_dict[idx] for idx in waves]\n",
    "title = [f'PRE CO2 {waves[0]}NM', f'CO2 {waves[0]}NM', f'POST CO2 {waves[0]}NM', f'PRE CO2 {waves[1]}NM', f'CO2 {waves[1]}NM', f'POST CO2 {waves[1]}NM']\n",
    "plt.imshow(imgfile[0][100:, :], cmap = 'hot')\n",
    "plt.colorbar()"
   ]
  },
  {
   "cell_type": "code",
   "execution_count": null,
   "id": "2c3ca904-35c8-4d43-8487-1ed330bc530e",
   "metadata": {},
   "outputs": [],
   "source": [
    "roi = [350, 550]\n",
    "plt.figure(figsize = (12, 8))\n",
    "for idx in range(imgfile.shape[0]):\n",
    "    plt.subplot(2, 3, idx + 1)\n",
    "    plt.imshow(imgfile[idx][roi[0]:roi[1], :], cmap = 'hot', extent = [0, 1, 0, 1])\n",
    "    plt.colorbar()\n",
    "    plt.clim([0, np.max(imgfile[:, roi[0]:roi[1], :])])\n",
    "    plt.title(title[idx])"
   ]
  },
  {
   "cell_type": "code",
   "execution_count": null,
   "id": "7a9347c9-22d2-444b-86ee-2fead5f00226",
   "metadata": {},
   "outputs": [],
   "source": [
    "title_order = ['PRE CO2', 'CO2', 'POST CO2']\n",
    "order = ['HbO', 'Hb', 'Cholesterol']\n",
    "imgdict, didx = {}, 0\n",
    "for i in [[0, 1], [0, 2], [1, 2]]:\n",
    "    for idx, j in enumerate([[0, 3], [1, 4], [2, 5]]):\n",
    "        imgdict[didx] = (title_order[idx], i, j)\n",
    "        didx += 1\n",
    "imgidx = 1\n",
    "plt.figure(figsize = (24, 12))\n",
    "for idx in range(9):\n",
    "    exp_unmixed = run_linear_unmixing(normalize(imgfile[imgdict[idx][2], roi[0]:roi[1], :].copy()), mixed_coeffs[wave_list][:, imgdict[idx][1]])\n",
    "    for xidx in range(2):\n",
    "        plt.subplot(3, 6, imgidx)\n",
    "        plt.imshow(exp_unmixed[:, :, xidx], cmap = \"hot\", extent = [0, 1, 0, 1])\n",
    "        plt.colorbar()\n",
    "        plt.title(f\"{imgdict[idx][0]} {order[imgdict[idx][1][xidx]]}\")\n",
    "        plt.clim([0, np.max(exp_unmixed)])\n",
    "        imgidx += 1\n",
    "plt.show()"
   ]
  },
  {
   "cell_type": "markdown",
   "id": "4af32436-a0af-40ce-8ba0-f9666196b4b6",
   "metadata": {},
   "source": [
    "# Time Series Analysis "
   ]
  },
  {
   "cell_type": "code",
   "execution_count": null,
   "id": "fc2230b1-cf6b-4f4f-a889-5eeeb130aec3",
   "metadata": {},
   "outputs": [],
   "source": [
    "def moving_average(data, window_size):\n",
    "    cumsum = np.cumsum(data, dtype=float)\n",
    "    cumsum[window_size:] = cumsum[window_size:] - cumsum[:-window_size]\n",
    "    return cumsum[window_size - 1:] / window_size"
   ]
  },
  {
   "cell_type": "code",
   "execution_count": null,
   "id": "dd741a66-1fe0-431d-ba3a-cdbee8498393",
   "metadata": {},
   "outputs": [],
   "source": [
    "pafile = loadmat(\"../../acousticx/data/beamformed/11062023-ft_760_even_915_odd_co2_30_90_30_OBP_Laser_PA_1477.mat\")['beamformed']\n",
    "plt.figure(figsize = (15, 10))\n",
    "roi_size = 7\n",
    "rois = [[559, 41], [556, 51], [495, 45], [471, 51]]\n",
    "for idx in range(len(rois)):\n",
    "    plt.subplot(2, 2, idx + 1)\n",
    "    mean = np.mean(pafile[:, rois[idx][0]:rois[idx][0] + roi_size, rois[idx][1]:rois[idx][1] + roi_size], axis = (1, 2))\n",
    "    mavg = moving_average(mean, 5)\n",
    "    plt.plot(list(range(pafile.shape[0])), mean, \"b\")\n",
    "    plt.plot(list(range(mavg.shape[0])), mavg, 'r')\n",
    "    plt.title(f'ROI - {idx + 1}')\n",
    "plt.show()"
   ]
  },
  {
   "cell_type": "code",
   "execution_count": null,
   "id": "79ddbd71-c714-422f-b325-034c4cdc0ed2",
   "metadata": {},
   "outputs": [],
   "source": [
    "fig, ax = plt.subplots()\n",
    "ax.imshow(pafile[10, :, :], cmap='hot')\n",
    "for ridx in range(len(rois)):\n",
    "    rect = Rectangle((rois[ridx][1], rois[ridx][0]), roi_size, roi_size, linewidth = 1, edgecolor='white', facecolor='none')\n",
    "    ax.add_patch(rect)\n",
    "plt.show()"
   ]
  }
 ],
 "metadata": {
  "kernelspec": {
   "display_name": "Python 3 (ipykernel)",
   "language": "python",
   "name": "python3"
  },
  "language_info": {
   "codemirror_mode": {
    "name": "ipython",
    "version": 3
   },
   "file_extension": ".py",
   "mimetype": "text/x-python",
   "name": "python",
   "nbconvert_exporter": "python",
   "pygments_lexer": "ipython3",
   "version": "3.11.3"
  }
 },
 "nbformat": 4,
 "nbformat_minor": 5
}
