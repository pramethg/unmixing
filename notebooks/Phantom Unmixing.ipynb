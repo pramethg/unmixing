{
 "cells": [
  {
   "cell_type": "code",
   "execution_count": null,
   "id": "53397845",
   "metadata": {},
   "outputs": [],
   "source": [
    "%load_ext autoreload\n",
    "%autoreload 2\n",
    "import os\n",
    "import warnings\n",
    "warnings.filterwarnings('ignore')\n",
    "import numpy as np\n",
    "from scipy.io import loadmat\n",
    "import matplotlib.pyplot as plt\n",
    "from scipy.optimize import nnls\n",
    "from sklearn.decomposition import FastICA\n",
    "from matplotlib.colors import ListedColormap\n",
    "from sklearn.decomposition import NMF\n",
    "%matplotlib inline\n",
    "from utils import *\n",
    "from vca import *\n",
    "from model.nmf import NMFGD"
   ]
  },
  {
   "cell_type": "code",
   "execution_count": null,
   "id": "b86c3d03",
   "metadata": {},
   "outputs": [],
   "source": [
    "phantom_list = sorted([int(wave[:3]) for wave in os.listdir('../expdata/20230217 Cholesterol and Blood Mix/') if (wave[-3:] == 'mat' and wave[0] != 'S')])\n",
    "abs_coeff, legend = {}, ['Blood Mixed', 'Cholesterol', 'Background']\n",
    "wave_abs = np.load('./data/hbo2hbchpr_57.npy')\n",
    "\n",
    "f = loadmat(\"./data/unmix.mat\")\n",
    "X, Y = f['x'], f['y']\n",
    "\n",
    "for idx, wave in enumerate(np.arange(700, 981, 5)):\n",
    "    abs_coeff[wave] = (idx, wave_abs[idx])\n",
    "coeffs = np.vstack([abs_coeff[wave][1] for wave in phantom_list])\n",
    "\n",
    "phantom_coeffs = np.vstack([abs_coeff[wave][1] for wave in phantom_list])\n",
    "for i in range(phantom_coeffs.shape[0]):\n",
    "    phantom_coeffs[i][1] = (phantom_coeffs[i][0] * 0.1) + (phantom_coeffs[i][1] * 0.9)\n",
    "bloodmixch = phantom_coeffs[:,1:3]\n",
    "weights_plot(array = bloodmixch, wave_list = phantom_list, legend = ['Blood Mix', 'Cholesterol'], figsize = (8, 6), xticks = phantom_list, title = '')"
   ]
  },
  {
   "cell_type": "code",
   "execution_count": null,
   "id": "9aaeef3e",
   "metadata": {},
   "outputs": [],
   "source": [
    "phantom_data = np.array([np.array(loadmat(f\"./data/blood_ch_phantom/PA_Image_{wave}.mat\")['Image_PA']) for wave in phantom_list])\n",
    "phantom_data_plot = normalize(phantom_data.copy())\n",
    "plt.figure(figsize = (24, 16))\n",
    "for i in range(18):\n",
    "    plt.subplot(3, 6, i + 1)\n",
    "    plt.imshow(phantom_data_plot[i], cmap = 'jet')\n",
    "    plt.title(label = f'{phantom_list[i]}nm')\n",
    "    plt.colorbar()\n",
    "plt.show()\n",
    "del phantom_data_plot"
   ]
  },
  {
   "cell_type": "markdown",
   "id": "79fc5ca4",
   "metadata": {},
   "source": [
    "## Linear Unmixing"
   ]
  },
  {
   "cell_type": "code",
   "execution_count": null,
   "id": "22283f7f",
   "metadata": {},
   "outputs": [],
   "source": [
    "phantom_linear = run_linear_unmixing(normalize(phantom_data.copy()), bloodmixch)\n",
    "plot_comps_2d(phantom_linear, phantom_list, bloodmixch, clim = [None]*3, xticks = None, order = [0, 1])"
   ]
  },
  {
   "cell_type": "code",
   "execution_count": null,
   "id": "5f10b902",
   "metadata": {},
   "outputs": [],
   "source": [
    "plot_3d_multiple(Y*1000, X*1000, phantom_linear, title = ['Blood Mix', 'Cholesterol', 'Background'], cmap = 'jet', clim = [None]*3, order = [0, 1, 2])"
   ]
  },
  {
   "cell_type": "markdown",
   "id": "406497a9",
   "metadata": {},
   "source": [
    "## ICA"
   ]
  },
  {
   "cell_type": "code",
   "execution_count": null,
   "id": "33329e25",
   "metadata": {},
   "outputs": [],
   "source": [
    "for i in range(20):\n",
    "    print(f\"Random State: {i}\")\n",
    "    maps, wts, _ = run_ica(phantom_data, phantom_list, 2, i)\n",
    "    plot_comps_2d(maps, phantom_list, wts, figsize = (10, 3), order = [0, 1])"
   ]
  },
  {
   "cell_type": "code",
   "execution_count": null,
   "id": "e791bce7",
   "metadata": {},
   "outputs": [],
   "source": [
    "maps, wts, model = run_ica(phantom_data, phantom_list, 2, 0)\n",
    "plot_comps_2d(maps, phantom_list, np.linalg.pinv(model.components_), clim = [None]*3, xticks = None, order = [0, 1])"
   ]
  },
  {
   "cell_type": "code",
   "execution_count": null,
   "id": "c997ceed",
   "metadata": {},
   "outputs": [],
   "source": [
    "plot_3d_multiple(Y*1000, X*1000, maps, title = ['Blood Mix', 'Cholesterol'], cmap = 'jet', clim = [None]*2, order = [1, 0])"
   ]
  },
  {
   "cell_type": "markdown",
   "id": "ad8b99c5",
   "metadata": {},
   "source": [
    "## NMF"
   ]
  },
  {
   "cell_type": "code",
   "execution_count": null,
   "id": "71cdcefe",
   "metadata": {},
   "outputs": [],
   "source": [
    "nmf_model = NMF(n_components = 3)\n",
    "nmf_model.fit(normalize(phantom_data.copy()).reshape(len(phantom_list), -1).T)\n",
    "nmf_comps = nmf_model.fit_transform(normalize(phantom_data.copy()).reshape(len(phantom_list), -1).T).reshape((396, 101, 3))\n",
    "plot_comps_2d(nmf_comps, phantom_list, nmf_model.components_.T, order = [0, 1], clim = [None]*3, chrom = ['Blood Mix', 'Cholesterol'], title = 'NMF')"
   ]
  },
  {
   "cell_type": "markdown",
   "id": "06ba3c44",
   "metadata": {},
   "source": [
    "## NMFGD"
   ]
  },
  {
   "cell_type": "code",
   "execution_count": null,
   "id": "10d6d1dd",
   "metadata": {},
   "outputs": [],
   "source": [
    "nmf_model_test = NMFGD(n_components = 2, randominit = True)\n",
    "nmf_model_test.fit(normalize(phantom_data.copy()).reshape((len(phantom_list), -1)), maxiter = 1500)"
   ]
  },
  {
   "cell_type": "code",
   "execution_count": null,
   "id": "49d5511b",
   "metadata": {},
   "outputs": [],
   "source": [
    "plot_comps_2d(nmf_model_test.H.T.reshape((396, 101, 2)), phantom_list, nmf_model_test.W, order = [0, 1], clim = [None]*3)"
   ]
  },
  {
   "cell_type": "markdown",
   "id": "90406988",
   "metadata": {},
   "source": [
    "## VCA"
   ]
  },
  {
   "cell_type": "code",
   "execution_count": null,
   "id": "09d13e2d",
   "metadata": {},
   "outputs": [],
   "source": [
    "ae, ind, yp = vca(normalize(phantom_data.copy()).reshape(len(phantom_list), -1), 2)\n",
    "vca_comps = np.matmul(np.linalg.pinv(ae), yp).reshape((2, 396, 101)).transpose((1, 2, 0))\n",
    "plot_comps_2d(vca_comps, phantom_list, ae, order = [0, 1], clim = [None]*2, chrom = ['Blood Mix', 'Cholesterol'], title = 'VCA')"
   ]
  },
  {
   "cell_type": "markdown",
   "id": "571e2760",
   "metadata": {},
   "source": [
    "## Phantom Cholesterol Experiments\n",
    "\n",
    "```python\n",
    "expdata = np.array([np.mean(np.array(loadmat(f'/content/20230305_Cholesterol_3/Phantom 1/{wave}nm.mat')['ImgData'])[1][0], axis = 3)[:,:,0] for wave in wave_list])\n",
    "wave, h, w = expdata.shape\n",
    "```"
   ]
  },
  {
   "cell_type": "code",
   "execution_count": null,
   "id": "03436555",
   "metadata": {},
   "outputs": [],
   "source": [
    "os.listdir('./expdata/')"
   ]
  },
  {
   "cell_type": "markdown",
   "id": "41c7a459",
   "metadata": {},
   "source": [
    "## Wavelength Data"
   ]
  },
  {
   "cell_type": "code",
   "execution_count": null,
   "id": "a157744b",
   "metadata": {},
   "outputs": [],
   "source": [
    "INDEX = 13\n",
    "path = './expdata/20230329 Cholesterol and Blood Mix/'\n",
    "wave_data = np.array(loadmat(f'{path}{phantom_list[INDEX]}nm.mat')['ImgData'][1][0])\n",
    "\n",
    "print(f'{phantom_list[INDEX]}nm')\n",
    "plt.figure(figsize = (30, 10))\n",
    "for i in range(wave_data.shape[-1]):\n",
    "    plt.subplot(2, 10, i+1)\n",
    "    plt.imshow(wave_data[:,:,0,i], cmap = 'hot')\n",
    "    plt.title(f'{np.std(wave_data[:,:,0,i]):.3f}')\n",
    "    plt.colorbar()\n",
    "plt.show()"
   ]
  },
  {
   "cell_type": "code",
   "execution_count": null,
   "id": "b5855883",
   "metadata": {},
   "outputs": [],
   "source": [
    "wavefiles = [wavefile for wavefile in os.listdir(path) if wavefile[-3:] == 'mat' and len(wavefile) == 9]\n",
    "wavefiles = sorted(wavefiles, key = lambda filename: int(filename[:3]))\n",
    "dim = loadmat(f'{path}/{wavefiles[0]}')['ImgData'][1][0].shape"
   ]
  },
  {
   "cell_type": "code",
   "execution_count": null,
   "id": "4befb5aa",
   "metadata": {},
   "outputs": [],
   "source": [
    "threshdict = {}\n",
    "for idx, wave in enumerate(phantom_list):\n",
    "    f = loadmat(f'{path}{wave}nm.mat')['ImgData'][1][0]\n",
    "    for frame in range(f.shape[-1]):\n",
    "        threshdict.setdefault(f'{wave}', []).append(np.std(f[:,:,0,frame]))"
   ]
  },
  {
   "cell_type": "code",
   "execution_count": null,
   "id": "afddf7cb",
   "metadata": {},
   "outputs": [],
   "source": [
    "THRESH = 3000\n",
    "expdata, explist = np.empty((len(phantom_list), dim[0], dim[1])), []\n",
    "\n",
    "for idx, wave in enumerate(phantom_list):\n",
    "    wave_data = np.array(loadmat(f'{path}/{wave}nm.mat')['ImgData'][1][0])\n",
    "    std_values = np.std(wave_data, axis = (0, 1, 2))\n",
    "    wave_data_list = np.where(std_values > THRESH)[0]\n",
    "    print(f'{idx}: {len(wave_data_list)}')\n",
    "    wave_data_mean = np.mean(wave_data[:, :, 0, [wave_data_list]], axis = 3)\n",
    "    expdata[idx, :, :] = wave_data_mean[:, :, 0]\n",
    "    explist.append(len(wave_data_list))"
   ]
  },
  {
   "cell_type": "code",
   "execution_count": null,
   "id": "2d6f0ab7",
   "metadata": {},
   "outputs": [],
   "source": [
    "expdata_plot = normalize(expdata.copy())\n",
    "plt.figure(figsize = (30, 12))\n",
    "for i in range(len(phantom_list)):\n",
    "    plt.subplot(2, 9, i + 1)\n",
    "    plt.imshow(20 * np.log10(expdata_plot[i]), cmap = \"hot\")\n",
    "    plt.title(label = f'{phantom_list[i]}nm')\n",
    "    plt.colorbar()\n",
    "    plt.clim([-60, 0])\n",
    "plt.show()\n",
    "del expdata_plot"
   ]
  },
  {
   "cell_type": "code",
   "execution_count": null,
   "id": "64f7d6e0",
   "metadata": {},
   "outputs": [],
   "source": [
    "phantom_exp = run_linear_unmixing(normalize(expdata.copy()), bloodmixch)\n",
    "plot_comps_2d(phantom_exp, phantom_list, bloodmixch, clim = [None]*3, xticks = None, order = [0, 1], chrom = ['Blood Mix', 'Cholesterol'])"
   ]
  }
 ],
 "metadata": {
  "kernelspec": {
   "display_name": "Python 3 (ipykernel)",
   "language": "python",
   "name": "python3"
  },
  "language_info": {
   "codemirror_mode": {
    "name": "ipython",
    "version": 3
   },
   "file_extension": ".py",
   "mimetype": "text/x-python",
   "name": "python",
   "nbconvert_exporter": "python",
   "pygments_lexer": "ipython3",
   "version": "3.9.16"
  }
 },
 "nbformat": 4,
 "nbformat_minor": 5
}
