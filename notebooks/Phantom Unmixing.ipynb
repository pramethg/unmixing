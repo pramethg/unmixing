{
 "cells": [
  {
   "cell_type": "markdown",
   "id": "df85dce2",
   "metadata": {},
   "source": [
    "## Phantom Cholesterol Experiments\n",
    "\n",
    "```python\n",
    "expdata = np.array([np.mean(np.array(loadmat(f'/content/20230305_Cholesterol_3/Phantom 1/{wave}nm.mat')['ImgData'])[1][0], axis = 3)[:,:,0] for wave in wave_list])\n",
    "wave, h, w = expdata.shape\n",
    "```"
   ]
  },
  {
   "cell_type": "code",
   "execution_count": null,
   "id": "53397845",
   "metadata": {},
   "outputs": [],
   "source": [
    "%load_ext autoreload\n",
    "%autoreload 2\n",
    "import os\n",
    "import warnings\n",
    "warnings.filterwarnings('ignore')\n",
    "import numpy as np\n",
    "from scipy.io import loadmat\n",
    "import matplotlib.pyplot as plt\n",
    "from scipy.optimize import nnls\n",
    "from sklearn.decomposition import FastICA\n",
    "from matplotlib.colors import ListedColormap\n",
    "from sklearn.decomposition import NMF\n",
    "%matplotlib inline\n",
    "from utils import *\n",
    "from vca import *"
   ]
  },
  {
   "cell_type": "code",
   "execution_count": null,
   "id": "b86c3d03",
   "metadata": {},
   "outputs": [],
   "source": [
    "phantom_list = sorted([int(wave[:3]) for wave in os.listdir('../expdata/20230217 Cholesterol and Blood Mix/') if (wave[-3:] == 'mat' and wave[0] != 'S')])\n",
    "abs_coeff, legend = {}, ['Blood Mixed', 'Cholesterol', 'Background']\n",
    "wave_abs = np.load('./data/hbo2hbchpr_57.npy')\n",
    "\n",
    "f = loadmat(\"./data/unmix.mat\")\n",
    "X, Y = f['x'], f['y']\n",
    "\n",
    "for idx, wave in enumerate(np.arange(700, 981, 5)):\n",
    "    abs_coeff[wave] = (idx, wave_abs[idx])\n",
    "coeffs = np.vstack([abs_coeff[wave][1] for wave in phantom_list])\n",
    "\n",
    "phantom_coeffs = np.vstack([abs_coeff[wave][1] for wave in phantom_list])\n",
    "for i in range(phantom_coeffs.shape[0]):\n",
    "    phantom_coeffs[i][1] = (phantom_coeffs[i][0] * 0.1) + (phantom_coeffs[i][1] * 0.9)\n",
    "bloodmixch = phantom_coeffs[:,1:3]\n",
    "weights_plot(array = bloodmixch, wave_list = phantom_list, legend = ['Blood Mix', 'Cholesterol'], figsize = (8, 6), xticks = phantom_list, title = '')"
   ]
  },
  {
   "cell_type": "code",
   "execution_count": null,
   "id": "9aaeef3e",
   "metadata": {},
   "outputs": [],
   "source": [
    "phantom_data = np.array([np.array(loadmat(f\"./data/blood_ch_phantom/PA_Image_{wave}.mat\")['Image_PA']) for wave in phantom_list])\n",
    "plt.figure(figsize = (24, 16))\n",
    "for i in range(18):\n",
    "    plt.subplot(3, 6, i + 1)\n",
    "    plt.imshow(phantom_data[i], cmap = 'jet')\n",
    "    plt.clim([0, np.max(phantom_data)])\n",
    "    plt.title(label = f'{phantom_list[i]}nm')\n",
    "    plt.colorbar()\n",
    "plt.show()"
   ]
  },
  {
   "cell_type": "code",
   "execution_count": null,
   "id": "22283f7f",
   "metadata": {},
   "outputs": [],
   "source": [
    "phantom_linear = run_linear_unmixing(phantom_data, bloodmixch)\n",
    "plot_3d_multiple(Y*1000, X*1000, phantom_linear, title = ['Blood Mix', 'Cholesterol', 'Background'], cmap = 'jet', clim = [0, np.max(phantom_linear)], order = [0, 1, 2])"
   ]
  },
  {
   "cell_type": "code",
   "execution_count": null,
   "id": "33329e25",
   "metadata": {},
   "outputs": [],
   "source": [
    "for i in range(20):\n",
    "    print(f\"Random State: {i}\")\n",
    "    maps, wts, _ = run_ica(phantom_data, phantom_list, 2, i)\n",
    "    plot_comps_2d(maps, wave_list, wts, figsize = (10, 3), order = [0, 1])"
   ]
  },
  {
   "cell_type": "code",
   "execution_count": null,
   "id": "e791bce7",
   "metadata": {},
   "outputs": [],
   "source": [
    "maps, wts, model = run_ica(phantom_data, phantom_list, 2, 0)\n",
    "plot_3d_multiple(Y*1000, X*1000, maps, title = ['Blood Mix', 'Cholesterol'], cmap = 'jet', clim = [0, np.max(maps)], order = [1, 0])"
   ]
  },
  {
   "cell_type": "code",
   "execution_count": null,
   "id": "3b1415ce",
   "metadata": {},
   "outputs": [],
   "source": [
    "weights_plot(array = np.linalg.pinv(model.components_)[:,[1, 0]], wave_list = phantom_list, legend = ['Blood Mix', 'Cholesterol'], figsize = (8, 6), xticks = phantom_list, title = '')"
   ]
  },
  {
   "cell_type": "code",
   "execution_count": null,
   "id": "03436555",
   "metadata": {},
   "outputs": [],
   "source": [
    "os.listdir('./expdata/')"
   ]
  },
  {
   "cell_type": "code",
   "execution_count": null,
   "id": "33c1d6c7",
   "metadata": {},
   "outputs": [],
   "source": [
    "path = './expdata/20230329 Cholesterol and Blood Mix/'\n",
    "wavefiles = [wavefile for wavefile in os.listdir(path) if wavefile[-3:] == 'mat' and len(wavefile) == 9]\n",
    "wavefiles = sorted(wavefiles, key = lambda filename: int(filename[:3]))\n",
    "pa_cmap = ListedColormap(loadmat(f'{path}{wavefiles[0]}')['PA_colormap'])"
   ]
  },
  {
   "cell_type": "code",
   "execution_count": null,
   "id": "f0ce250b",
   "metadata": {
    "id": "1RKiocl3i7Ug"
   },
   "outputs": [],
   "source": [
    "expdata = np.array([np.mean(np.array(loadmat(f'./expdata/20230315 Cholesterol and Blood Mix/{wave}nm.mat')['ImgData'])[1][0], axis = 3)[:,:,0] for wave in phantom_list])\n",
    "wave, h, w = expdata.shape"
   ]
  },
  {
   "cell_type": "code",
   "execution_count": null,
   "id": "2d6f0ab7",
   "metadata": {},
   "outputs": [],
   "source": [
    "plt.figure(figsize = (30, 16))\n",
    "for i in range(wave):\n",
    "    plt.subplot(3, 6, i+1)\n",
    "    plt.imshow(expdata[i], cmap = \"hot\")\n",
    "    plt.title(label = f'{wave_list[i]}nm')\n",
    "    plt.colorbar()\n",
    "plt.show()"
   ]
  },
  {
   "cell_type": "code",
   "execution_count": null,
   "id": "62dfdf4f",
   "metadata": {
    "id": "6H0LfzefcxU1"
   },
   "outputs": [],
   "source": [
    "linear_comps = run_linear_unmixing(expdata, bloodmixch)\n",
    "plot_comps_2d(linear_comps, wave_list, bloodmixch, \"Linear Unmixing\", (20, 4), order = [0, 1], chrom = ['Blood Mix', \"Cholesterol\"], clim = [0, np.max(linear_comps)])"
   ]
  },
  {
   "cell_type": "code",
   "execution_count": null,
   "id": "cd6e28e7",
   "metadata": {
    "id": "x6d3z9mbdYkI"
   },
   "outputs": [],
   "source": [
    "test_data = expdata.reshape((wave, h*w))\n",
    "test_data_mean = test_data.mean(axis = -1)\n",
    "test_data -= test_data_mean[:, np.newaxis]\n",
    "test_comps = np.linalg.multi_dot([model._unmixing, model.whitening_, test_data]).T.reshape((h, w, 2))\n",
    "plot_comps_2d(test_comps, wave_list, np.linalg.pinv(model.components_), \"ICA\", (20, 4), order = [1, 0], invert_sign = None, clim = [0, np.max(test_comps)], chrom = ['Blood Mix', \"Cholesterol\"])"
   ]
  },
  {
   "cell_type": "code",
   "execution_count": null,
   "id": "b5c10779",
   "metadata": {},
   "outputs": [],
   "source": [
    "plt.imshow(test_comps[:,:,0], cmap = \"hot\")\n",
    "plt.clim([1e5, 5e6])"
   ]
  },
  {
   "cell_type": "code",
   "execution_count": null,
   "id": "98ba0918",
   "metadata": {
    "colab": {
     "base_uri": "https://localhost:8080/",
     "height": 853
    },
    "id": "DNmkFWe8mCao",
    "outputId": "c8ddcb23-0338-4d91-a0c1-5eaad4d9f0f3"
   },
   "outputs": [],
   "source": [
    "plt.figure(figsize = (15, 10))\n",
    "for i, wave in enumerate(sorted([int(wave[:3]) for wave in os.listdir(f\"/content/20230217_Cholesterol_Blood/\") if wave[-3:] == 'mat'])):\n",
    "    plt.subplot(3, 6, i+1)\n",
    "    plt.imshow(np.mean(np.array(loadmat(f'/content/20230217_Cholesterol_Blood/{wave}nm.mat')['ImgData'])[1][0], axis = 3)[:,:,0], cmap = \"hot\")\n",
    "    plt.title(f\"{wave} nm\")\n",
    "    plt.colorbar()\n",
    "plt.show()"
   ]
  }
 ],
 "metadata": {
  "kernelspec": {
   "display_name": "Python 3 (ipykernel)",
   "language": "python",
   "name": "python3"
  },
  "language_info": {
   "codemirror_mode": {
    "name": "ipython",
    "version": 3
   },
   "file_extension": ".py",
   "mimetype": "text/x-python",
   "name": "python",
   "nbconvert_exporter": "python",
   "pygments_lexer": "ipython3",
   "version": "3.9.16"
  }
 },
 "nbformat": 4,
 "nbformat_minor": 5
}
