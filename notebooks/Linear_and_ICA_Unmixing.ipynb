{
 "cells": [
  {
   "cell_type": "code",
   "execution_count": null,
   "metadata": {
    "id": "vqdBXa1KO0Zs",
    "tags": []
   },
   "outputs": [],
   "source": [
    "%load_ext autoreload\n",
    "%autoreload 2\n",
    "import os\n",
    "import warnings\n",
    "warnings.filterwarnings('ignore')\n",
    "import numpy as np\n",
    "from scipy.io import loadmat\n",
    "import matplotlib.pyplot as plt\n",
    "from scipy.optimize import nnls\n",
    "from sklearn.decomposition import FastICA\n",
    "%matplotlib inline\n",
    "from utils import *"
   ]
  },
  {
   "cell_type": "markdown",
   "metadata": {},
   "source": [
    "```python\n",
    "wave_list = [750, 760, 800, 850, 900, 925]\n",
    "wave_list = [750, 760, 800, 850, 900, 910, 920, 930, 940, 950]\n",
    "wave_list = sorted([int(wave[:3]) for wave in os.listdir('/20230305_Cholesterol_3/Phantom 2/')])\n",
    "wave_list = sorted([int(wave[:3]) for wave in os.listdir('../expdata/20230217 Cholesterol and Blood Mix/') if wave[-3:] == 'mat'])\n",
    "```"
   ]
  },
  {
   "cell_type": "code",
   "execution_count": null,
   "metadata": {
    "colab": {
     "base_uri": "https://localhost:8080/",
     "height": 487
    },
    "id": "POCg3D-EtfE2",
    "outputId": "af69d716-8ec4-4d72-b426-8036a1e75350",
    "tags": []
   },
   "outputs": [],
   "source": [
    "wave_list = [750, 760, 800, 850, 900, 925]\n",
    "abs_coeff, legend = {}, [\"HbO2\", \"Hb\", \"Cholesterol\", \"Prostate\", \"Water\"]\n",
    "wave_abs = np.load('./data/hbo2hbchpr_57.npy')\n",
    "\n",
    "for idx, wave in enumerate(np.arange(700, 981, 5)):\n",
    "    abs_coeff[wave] = (idx, wave_abs[idx])\n",
    "coeffs = np.vstack([abs_coeff[wave][1] for wave in wave_list])\n",
    "weights_plot(array = coeffs[:, 0:], wave_list = wave_list, legend = legend)"
   ]
  },
  {
   "cell_type": "markdown",
   "metadata": {
    "id": "ZRiyZWke0Dqa"
   },
   "source": [
    "Linear Unmixing 29 Wavelengths: Step Size of 10 nm"
   ]
  },
  {
   "cell_type": "code",
   "execution_count": null,
   "metadata": {
    "id": "MihO6e8wSN2c",
    "tags": []
   },
   "outputs": [],
   "source": [
    "f = loadmat(\"./plot3d/plot3d-sim.mat\")\n",
    "X, Y = f['x'], f['y']"
   ]
  },
  {
   "cell_type": "code",
   "execution_count": null,
   "metadata": {
    "colab": {
     "base_uri": "https://localhost:8080/",
     "height": 394
    },
    "id": "W7ZUqUzNvZz9",
    "outputId": "8bbd2e52-61be-4ec2-e765-fe86c12ca13f",
    "tags": []
   },
   "outputs": [],
   "source": [
    "depth = 25\n",
    "hbhbo2fat = np.copy(coeffs)[:, 0:3]\n",
    "sim_data = np.array([np.array(loadmat(f\"./data/hb_hbo2_fat_29_{depth}/PA_Image_{wave}.mat\")['Image_PA']) for wave in wave_list])\n",
    "unmixed = run_linear_unmixing(sim_data, hbhbo2fat)\n",
    "plot_3d_multiple(Y*1000, X*1000, unmixed, title = legend[:3], cmap = 'jet', clim = None, order = [0, 1, 2])"
   ]
  },
  {
   "cell_type": "markdown",
   "metadata": {
    "id": "ftV0pTUB0IYW"
   },
   "source": [
    "57 Wavelengths: Step Size of 5 nm"
   ]
  },
  {
   "cell_type": "code",
   "execution_count": null,
   "metadata": {
    "id": "XAk9E4d60OUv",
    "tags": []
   },
   "outputs": [],
   "source": [
    "hbhbo2fat = np.copy(coeffs)[:, 0:3]\n",
    "sim_data = np.array([np.array(loadmat(f\"./data/hb_hbo2_fat_57/PA_Image_{wave}.mat\")['Image_PA']) for wave in wave_list])\n",
    "unmixed = run_linear_unmixing(sim_data, hbhbo2fat)\n",
    "plot_3d_multiple(Y*1000, X*1000, unmixed, title = legend[:3], cmap = 'jet', clim = None, order = [0, 1, 2])"
   ]
  },
  {
   "cell_type": "markdown",
   "metadata": {
    "id": "sczIxDLvOjLT"
   },
   "source": [
    "ICA"
   ]
  },
  {
   "cell_type": "code",
   "execution_count": null,
   "metadata": {
    "colab": {
     "base_uri": "https://localhost:8080/",
     "height": 1000
    },
    "id": "aaJpQWsQ1ZUx",
    "outputId": "0eff21c0-779c-4dea-e758-72b54ceb920d",
    "tags": []
   },
   "outputs": [],
   "source": [
    "for i in range(20):\n",
    "    print(f\"Random State: {i}\")\n",
    "    maps, wts, _ = run_ica(sim_data, wave_list, 3, i)\n",
    "    plot_comps_2d(maps, wave_list, wts, figsize = (10, 3), order = [0, 1, 2])"
   ]
  },
  {
   "cell_type": "code",
   "execution_count": null,
   "metadata": {
    "colab": {
     "base_uri": "https://localhost:8080/",
     "height": 498
    },
    "id": "wCkZcSjewVvt",
    "outputId": "d8853ca2-2160-45b1-c5c1-580776f223ab",
    "tags": []
   },
   "outputs": [],
   "source": [
    "maps, wts, model = run_ica(sim_data, wave_list, 3, 9)\n",
    "plot_3d_multiple(Y*1000, X*1000, maps, title = legend[:3], cmap = 'jet', clim = None, order = [2, 1, 0])"
   ]
  },
  {
   "cell_type": "markdown",
   "metadata": {
    "id": "tH0R69zpQ-5F"
   },
   "source": [
    "Testing on the Trained ICA Model"
   ]
  },
  {
   "cell_type": "code",
   "execution_count": null,
   "metadata": {
    "colab": {
     "base_uri": "https://localhost:8080/",
     "height": 485
    },
    "id": "tDI56cqVHHLA",
    "outputId": "23e58458-0fef-4005-c175-9a6fe7a009e4",
    "tags": []
   },
   "outputs": [],
   "source": [
    "depth = 40\n",
    "hbhbo2fat = np.copy(coeffs)[:, 0:3]\n",
    "sim_data_test = np.array([np.array(loadmat(f\"../data/hb_hbo2_fat_29_{depth}/PA_Image_{wave}.mat\")['Image_PA']) for wave in wave_list])\n",
    "test_data = sim_data_test.transpose((1, 2, 0)).reshape((-1, len(wave_list))).T\n",
    "test_data_mean = test_data.mean(axis = -1)\n",
    "test_data -= test_data_mean[:, np.newaxis]\n",
    "test_comps = np.linalg.multi_dot([model._unmixing, model.whitening_, test_data]).T.reshape((396, 101, 3))\n",
    "plot_3d_multiple(Y*1000, X*1000, test_comps, title = legend[:3], cmap = 'jet', clim = None, order = [2, 1, 0])"
   ]
  },
  {
   "cell_type": "markdown",
   "metadata": {
    "id": "LfGD4-M_0Y-v"
   },
   "source": [
    "## Phantom Cholesterol Experiments"
   ]
  },
  {
   "cell_type": "markdown",
   "metadata": {
    "id": "SG6llYToi1Xr"
   },
   "source": [
    "20230305_Cholesterol_3 Cholesterol Phantoms\n",
    "```python\n",
    "expdata = np.array([np.mean(np.array(loadmat(f'/content/20230305_Cholesterol_3/Phantom 1/{wave}nm.mat')['ImgData'])[1][0], axis = 3)[:,:,0] for wave in wave_list])\n",
    "wave, h, w = expdata.shape\n",
    "```"
   ]
  },
  {
   "cell_type": "markdown",
   "metadata": {
    "id": "qwjEdlgKi65B"
   },
   "source": [
    "20230217_Cholesterol_Blood Phantoms"
   ]
  },
  {
   "cell_type": "code",
   "execution_count": null,
   "metadata": {
    "id": "1RKiocl3i7Ug"
   },
   "outputs": [],
   "source": [
    "expdata = np.array([np.mean(np.array(loadmat(f'./expdata/20230217 Cholesterol and Blood Mix/{wave}nm.mat')['ImgData'])[1][0], axis = 3)[:,:,0] for wave in wave_list])\n",
    "wave, h, w = expdata.shape"
   ]
  },
  {
   "cell_type": "code",
   "execution_count": null,
   "metadata": {
    "id": "6H0LfzefcxU1"
   },
   "outputs": [],
   "source": [
    "linear_comps = run_linear_unmixing(expdata, hbhbo2fat)\n",
    "plot_comps_2d(linear_comps, wave_list, hbhbo2fat, \"Linear Unmixing\", (15, 4))"
   ]
  },
  {
   "cell_type": "code",
   "execution_count": null,
   "metadata": {
    "id": "x6d3z9mbdYkI"
   },
   "outputs": [],
   "source": [
    "test_data = expdata.reshape((wave, h*w))\n",
    "test_data_mean = test_data.mean(axis = -1)\n",
    "test_data -= test_data_mean[:, np.newaxis]\n",
    "test_comps = np.linalg.multi_dot([model._unmixing, model.whitening_, test_data]).T.reshape((h, w, 3))\n",
    "plot_comps_2d(test_comps, wave_list, model.components_.T)"
   ]
  },
  {
   "cell_type": "code",
   "execution_count": null,
   "metadata": {
    "colab": {
     "base_uri": "https://localhost:8080/",
     "height": 853
    },
    "id": "DNmkFWe8mCao",
    "outputId": "c8ddcb23-0338-4d91-a0c1-5eaad4d9f0f3"
   },
   "outputs": [],
   "source": [
    "plt.figure(figsize = (15, 10))\n",
    "for i, wave in enumerate(sorted([int(wave[:3]) for wave in os.listdir(f\"/content/20230217_Cholesterol_Blood/\") if wave[-3:] == 'mat'])):\n",
    "    plt.subplot(3, 6, i+1)\n",
    "    plt.imshow(np.mean(np.array(loadmat(f'/content/20230217_Cholesterol_Blood/{wave}nm.mat')['ImgData'])[1][0], axis = 3)[:,:,0], cmap = \"hot\")\n",
    "    plt.title(f\"{wave} nm\")\n",
    "    plt.colorbar()\n",
    "plt.show()"
   ]
  },
  {
   "cell_type": "markdown",
   "metadata": {
    "id": "FZ6qftdnp0KF",
    "tags": []
   },
   "source": [
    "## Animal Experiments\n",
    "\n",
    "```python\n",
    "f = loadmat(\"./expdata/All Animal Results to Date/CONTROL MICE/03.31 Exp 2 (10 WV)/ALL_FRAMES_MOTIONREMOVED.mat\")\n",
    "exp_wave_list = [int(key[-3:]) for key in f.keys() if key[:3] == 'all']\n",
    "exp_img = normalize(np.array([np.mean(f[f'all{wave}'], axis = 2) for wave in exp_wave_list]).transpose((1, 2, 0))[60:210, 20:170, :])\n",
    "exp_img = exp_img.transpose((2, 0, 1))\n",
    "\n",
    "f = loadmat(\"./expdata/All Animal Results to Date/CONTROL MICE/03.31 Exp 7 (10 WV)/SUMMARY_DATA.mat\")\n",
    "\n",
    "f = loadmat(\"./expdata/All Animal Results to Date/DKO MICE/01.20 Exp 19 (10 WV)/SUMMARY_FRAMES.mat\")\n",
    "exp_wave_list = [int(key[-3:]) for key in f.keys() if key[:3] == 'all']\n",
    "exp_img = normalize(np.array([np.mean(f[f'all{wave}'], axis = 2) for wave in exp_wave_list]).transpose((1, 2, 0))[60:210, 50:170, :])\n",
    "exp_img = exp_img.transpose((2, 0, 1))\n",
    "\n",
    "f = loadmat(\"./expdata/All Animal Results to Date/EX VIVO SKIN SAMPLES/01.28 Exp 23/SUMMARY_FRAMES.mat\")\n",
    "exp_wave_list = [int(key[-3:]) for key in f.keys() if key[:3] == 'all']\n",
    "exp_img = normalize(np.array([np.mean(f[f'all{wave}'], axis = 2) for wave in exp_wave_list]).transpose((1, 2, 0))[50:150, :, :])\n",
    "exp_img = exp_img.transpose((2, 0, 1))\n",
    "```"
   ]
  },
  {
   "cell_type": "code",
   "execution_count": null,
   "metadata": {
    "tags": []
   },
   "outputs": [],
   "source": [
    "f = loadmat(\"./expdata/All Animal Results to Date/EX VIVO SKIN SAMPLES/01.28 Exp 23/SUMMARY_FRAMES.mat\")\n",
    "exp_wave_list = [int(key[-3:]) for key in f.keys() if key[:3] == 'all']\n",
    "exp_img = normalize(np.array([np.mean(f[f'all{wave}'], axis = 2) for wave in exp_wave_list]).transpose((1, 2, 0))[50:150, :, :])\n",
    "exp_img = exp_img.transpose((2, 0, 1))"
   ]
  },
  {
   "cell_type": "code",
   "execution_count": null,
   "metadata": {
    "colab": {
     "base_uri": "https://localhost:8080/",
     "height": 578
    },
    "id": "Y_BP8qcyxCi5",
    "outputId": "5c7fcb43-e389-4b5f-c46c-66bc85753441",
    "tags": []
   },
   "outputs": [],
   "source": [
    "plt.figure(figsize = (28, 7))\n",
    "for i, wave in enumerate(exp_wave_list):\n",
    "    plt.subplot(2, 5, i+1)\n",
    "    plt.imshow(exp_img[i], cmap = \"hot\")\n",
    "    plt.title(f\"{wave} nm\")\n",
    "    plt.colorbar()\n",
    "plt.show()"
   ]
  },
  {
   "cell_type": "markdown",
   "metadata": {},
   "source": [
    "Linear Unmixing"
   ]
  },
  {
   "cell_type": "code",
   "execution_count": null,
   "metadata": {
    "tags": []
   },
   "outputs": [],
   "source": [
    "exp_unmixed = run_linear_unmixing(exp_img, hbhbo2fat)\n",
    "plot_comps_2d(exp_unmixed, wave_list, hbhbo2fat, \"Linear Unmixing\", (18, 4), order = [0, 1, 2])"
   ]
  },
  {
   "cell_type": "markdown",
   "metadata": {},
   "source": [
    "ICA Unmixing"
   ]
  },
  {
   "cell_type": "code",
   "execution_count": null,
   "metadata": {
    "tags": []
   },
   "outputs": [],
   "source": [
    "exp_test_data = exp_img.transpose((1, 2, 0)).reshape((-1, len(wave_list))).T\n",
    "exp_test_data_mean = exp_test_data.mean(axis = -1)\n",
    "exp_test_data -= exp_test_data_mean[:, np.newaxis]\n",
    "exp_test_comps = np.linalg.multi_dot([model._unmixing, model.whitening_, exp_test_data]).T.reshape((exp_img.shape[1], exp_img.shape[2], 3))\n",
    "plot_comps_2d(exp_test_comps, wave_list, np.linalg.pinv(model.components_), \"ICA\", (18, 4), order = [2, 1, 0], invert_sign = 2)"
   ]
  },
  {
   "cell_type": "markdown",
   "metadata": {},
   "source": [
    "6 Wavelengths Experimental Results\n",
    "| Experiment            | Crop |\n",
    "|-----------------------|------|\n",
    "| APOE MICE 01.20 Exp 12 |[60:210, 30:160, :]|\n",
    "| APOE MICE 01.20 Exp 15 |[60:180, :, :]|\n",
    "| APOE MICE 01.28 Exp 13 |[50:140, 30:, :]|\n",
    "| APOE MICE 01.28 Exp 14 |[55:, :, :]|\n",
    "| APOE MICE 01.28 Exp 15 |[55:, :, :]|\n",
    "| APOE MICE 01.28 Exp 16 |[55:, :, :]|"
   ]
  },
  {
   "cell_type": "code",
   "execution_count": null,
   "metadata": {
    "tags": []
   },
   "outputs": [],
   "source": [
    "f = loadmat(\"expdata/All Animal Results to Date/APOE MICE/01.28 Exp 16/SUMMARY_FRAMES.mat\")\n",
    "exp_wave_list = [int(key[-3:]) for key in f.keys() if key[:3] == 'all']\n",
    "exp_img = normalize(np.array([np.mean(f[f'all{wave}'], axis = 2) for wave in exp_wave_list]).transpose((1, 2, 0))[55:, :, :])\n",
    "exp_img = exp_img.transpose((2, 0, 1))"
   ]
  },
  {
   "cell_type": "code",
   "execution_count": null,
   "metadata": {
    "tags": []
   },
   "outputs": [],
   "source": [
    "plt.figure(figsize = (20, 8))\n",
    "for i, wave in enumerate(exp_wave_list):\n",
    "    plt.subplot(2, 3, i+1)\n",
    "    plt.imshow(exp_img[i], cmap = \"hot\")\n",
    "    plt.title(f\"{wave} nm\")\n",
    "    plt.colorbar()\n",
    "plt.show()"
   ]
  },
  {
   "cell_type": "code",
   "execution_count": null,
   "metadata": {
    "tags": []
   },
   "outputs": [],
   "source": [
    "exp_unmixed = run_linear_unmixing(exp_img, hbhbo2fat)\n",
    "plot_comps_2d(exp_unmixed, wave_list, hbhbo2fat, \"Linear Unmixing\", (18, 4))"
   ]
  },
  {
   "cell_type": "code",
   "execution_count": null,
   "metadata": {
    "tags": []
   },
   "outputs": [],
   "source": [
    "exp_test_data = exp_img.transpose((1, 2, 0)).reshape((-1, len(wave_list))).T\n",
    "exp_test_data_mean = exp_test_data.mean(axis = -1)\n",
    "exp_test_data -= exp_test_data_mean[:, np.newaxis]\n",
    "exp_test_comps = np.linalg.multi_dot([model._unmixing, model.whitening_, exp_test_data]).T.reshape((exp_img.shape[1], exp_img.shape[2], 3))\n",
    "plot_comps_2d(exp_test_comps, wave_list, np.linalg.pinv(model.components_), \"ICA\", (18, 4), order = [2, 1, 0], invert_sign = 2)"
   ]
  }
 ],
 "metadata": {
  "colab": {
   "collapsed_sections": [
    "W2ud3jMdPDgO",
    "ftV0pTUB0IYW"
   ],
   "provenance": []
  },
  "kernelspec": {
   "display_name": "Python 3 (ipykernel)",
   "language": "python",
   "name": "python3"
  },
  "language_info": {
   "codemirror_mode": {
    "name": "ipython",
    "version": 3
   },
   "file_extension": ".py",
   "mimetype": "text/x-python",
   "name": "python",
   "nbconvert_exporter": "python",
   "pygments_lexer": "ipython3",
   "version": "3.11.3"
  }
 },
 "nbformat": 4,
 "nbformat_minor": 4
}
