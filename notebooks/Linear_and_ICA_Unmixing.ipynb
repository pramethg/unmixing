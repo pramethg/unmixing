{
 "cells": [
  {
   "cell_type": "code",
   "execution_count": null,
   "metadata": {},
   "outputs": [],
   "source": [
    "%load_ext autoreload\n",
    "%autoreload 2"
   ]
  },
  {
   "cell_type": "code",
   "execution_count": null,
   "metadata": {
    "id": "vqdBXa1KO0Zs",
    "tags": []
   },
   "outputs": [],
   "source": [
    "import os\n",
    "import warnings\n",
    "warnings.filterwarnings('ignore')\n",
    "import numpy as np\n",
    "from scipy.io import loadmat\n",
    "import matplotlib.pyplot as plt\n",
    "from scipy.optimize import nnls\n",
    "from sklearn.decomposition import FastICA\n",
    "from matplotlib.colors import ListedColormap\n",
    "from sklearn.decomposition import NMF\n",
    "%matplotlib inline\n",
    "from utils import *\n",
    "from vca import *\n",
    "from model.nmf import NMFGD\n",
    "from model.nnica import *"
   ]
  },
  {
   "cell_type": "markdown",
   "metadata": {},
   "source": [
    "## Simulation Training Data\n",
    "```python\n",
    "wave_list = [750, 760, 800, 850, 900, 925]\n",
    "wave_list = [750, 760, 800, 850, 900, 910, 920, 930, 940, 950]\n",
    "```"
   ]
  },
  {
   "cell_type": "code",
   "execution_count": null,
   "metadata": {
    "colab": {
     "base_uri": "https://localhost:8080/",
     "height": 487
    },
    "id": "POCg3D-EtfE2",
    "outputId": "af69d716-8ec4-4d72-b426-8036a1e75350",
    "tags": []
   },
   "outputs": [],
   "source": [
    "wave_list = [750, 760, 800, 850, 900, 910, 920, 930, 940, 950]\n",
    "abs_coeff, legend = {}, [\"HbO2\", \"Hb\", \"Cholesterol\", \"Background\"]\n",
    "wave_abs = np.load('./data/hbo2hbchpr_57.npy')\n",
    "\n",
    "f = loadmat(\"./data/3DPlot.mat\")\n",
    "X, Y = f['x'], f['y']\n",
    "\n",
    "for idx, wave in enumerate(np.arange(700, 981, 5)):\n",
    "    abs_coeff[wave] = (idx, wave_abs[idx])\n",
    "coeffs = np.vstack([abs_coeff[wave][1] for wave in wave_list])\n",
    "normcoeffs = np.array([coeffs.T[idx] / max(coeffs.T[idx]) for idx in range(coeffs.shape[1])]).T\n",
    "weights_plot(array = coeffs[:, 0:], wave_list = wave_list, legend = legend, figsize = (9, 6), xticks = wave_list)"
   ]
  },
  {
   "cell_type": "code",
   "execution_count": null,
   "metadata": {},
   "outputs": [],
   "source": [
    "x = np.arange(700, 981, 5)\n",
    "y = np.array(np.vstack([abs_coeff[wave][1] for wave in x])[:, 0:3])\n",
    "plt.figure(figsize = (10, 6))\n",
    "plt.plot(x, y)\n",
    "plt.ylim([1e-4, 10])\n",
    "plt.yscale('log')\n",
    "plt.legend('')\n",
    "plt.xticks(np.arange(700, 981, ))\n",
    "plt.show()"
   ]
  },
  {
   "cell_type": "markdown",
   "metadata": {
    "id": "ZRiyZWke0Dqa"
   },
   "source": [
    "## Linear Unmixing"
   ]
  },
  {
   "cell_type": "code",
   "execution_count": null,
   "metadata": {
    "colab": {
     "base_uri": "https://localhost:8080/",
     "height": 394
    },
    "id": "W7ZUqUzNvZz9",
    "outputId": "8bbd2e52-61be-4ec2-e765-fe86c12ca13f",
    "tags": []
   },
   "outputs": [],
   "source": [
    "depth = 25\n",
    "hbhbo2fat = np.copy(coeffs)[:, 0:3]\n",
    "sim_data = np.array([np.array(loadmat(f\"./data/hb_hbo2_fat_29_{depth}/PA_Image_{wave}.mat\")['Image_PA']) for wave in wave_list])"
   ]
  },
  {
   "cell_type": "code",
   "execution_count": null,
   "metadata": {},
   "outputs": [],
   "source": [
    "unmixed = run_linear_unmixing(normalize(sim_data.copy()), hbhbo2fat)\n",
    "plot_comps_2d(unmixed, wave_list, hbhbo2fat, clim = [None]*3, xticks = wave_list)"
   ]
  },
  {
   "cell_type": "code",
   "execution_count": null,
   "metadata": {},
   "outputs": [],
   "source": [
    "plot_3d_multiple(Y*1000, X*1000, unmixed, title = legend[:3], cmap = 'jet', clim = [None]*3, order = [0, 1, 2])"
   ]
  },
  {
   "cell_type": "code",
   "execution_count": null,
   "metadata": {},
   "outputs": [],
   "source": [
    "plt.figure(figsize = (20, 12))\n",
    "for i in range(sim_data.shape[0]):\n",
    "    plt.subplot(2, sim_data.shape[0] // 2, i+1)\n",
    "    plt.imshow(sim_data[i], cmap = \"jet\")\n",
    "    plt.title(f'{wave_list[i]} nm')\n",
    "    plt.colorbar()\n",
    "    plt.clim([0, 0.005])"
   ]
  },
  {
   "cell_type": "markdown",
   "metadata": {},
   "source": [
    "## NMF"
   ]
  },
  {
   "cell_type": "code",
   "execution_count": null,
   "metadata": {},
   "outputs": [],
   "source": [
    "nmf_model = NMF(n_components = 3)\n",
    "nmf_model.fit(normalize(sim_data.copy()).reshape(len(wave_list), -1).T)"
   ]
  },
  {
   "cell_type": "code",
   "execution_count": null,
   "metadata": {},
   "outputs": [],
   "source": [
    "nmf_comps = nmf_model.fit_transform(normalize(sim_data.copy()).reshape(len(wave_list), -1).T).reshape((396, 101, 3))\n",
    "plot_comps_2d(nmf_comps, wave_list, nmf_model.components_.T, order = [0, 1, 2], clim = [None]*3)"
   ]
  },
  {
   "cell_type": "code",
   "execution_count": null,
   "metadata": {},
   "outputs": [],
   "source": [
    "plot_3d_multiple(Y*1000, X*1000, nmf_comps, title = legend[:3], cmap = 'jet', clim = [[0, np.max(nmf_comps)]]*3, order = [0, 1, 2])"
   ]
  },
  {
   "cell_type": "code",
   "execution_count": null,
   "metadata": {},
   "outputs": [],
   "source": [
    "weights_plot(array = nmf_model.components_.T, wave_list = wave_list, legend = legend, figsize = (9, 6), xticks = wave_list)"
   ]
  },
  {
   "cell_type": "markdown",
   "metadata": {},
   "source": [
    "### NMF Gradient Descent"
   ]
  },
  {
   "cell_type": "code",
   "execution_count": null,
   "metadata": {},
   "outputs": [],
   "source": [
    "nmf_model_test = NMFGD(n_components = 3, randominit = True)\n",
    "nmf_model_test.fit(normalize(sim_data.copy()).reshape((len(wave_list), -1)), maxiter = 1500)"
   ]
  },
  {
   "cell_type": "code",
   "execution_count": null,
   "metadata": {},
   "outputs": [],
   "source": [
    "plot_comps_2d(nmf_model_test.H.T.reshape((396, 101, 3)), wave_list, nmf_model_test.W, order = [2, 0, 1], clim = [None]*3)"
   ]
  },
  {
   "cell_type": "markdown",
   "metadata": {},
   "source": [
    "## VCA"
   ]
  },
  {
   "cell_type": "code",
   "execution_count": null,
   "metadata": {},
   "outputs": [],
   "source": [
    "ae, ind, yp = vca(sim_data.copy().reshape(len(wave_list), -1), 3)\n",
    "vca_comps = np.matmul(np.linalg.pinv(ae), yp).reshape((3, 396, 101)).transpose((1, 2, 0))\n",
    "plot_comps_2d(vca_comps, wave_list, ae, order = [2, 0, 1], clim = [None, None, None])"
   ]
  },
  {
   "cell_type": "code",
   "execution_count": null,
   "metadata": {},
   "outputs": [],
   "source": [
    "vca_order = [2, 0, 1]\n",
    "plot_3d_multiple(Y*1000, X*1000, vca_comps, title = legend[:3], cmap = 'jet', clim = [None]*3, order = vca_order)"
   ]
  },
  {
   "cell_type": "code",
   "execution_count": null,
   "metadata": {},
   "outputs": [],
   "source": [
    "weights_plot(array = ae[:, vca_order], wave_list = wave_list, legend = legend, figsize = (9, 6), xticks = wave_list)"
   ]
  },
  {
   "cell_type": "markdown",
   "metadata": {},
   "source": [
    "## FastICA\n",
    "\n",
    "```python\n",
    "from scipy import linalg\n",
    "XW = sim_data.reshape((10, 396*101))\n",
    "X_mean = XW.mean(axis = -1)\n",
    "XW -= X_mean[:, np.newaxis]\n",
    "U, D = linalg.svd(XW, full_matrices = False, check_finite = False)[:2]\n",
    "U *= np.sign(U[0])\n",
    "K = (U / D).T[:3]\n",
    "XW = np.dot(K, XW)\n",
    "XW *= np.sqrt(396*101)\n",
    "XW = XW.reshape((3, 396, 101)).transpose((1, 2, 0))\n",
    "```"
   ]
  },
  {
   "cell_type": "code",
   "execution_count": null,
   "metadata": {
    "colab": {
     "base_uri": "https://localhost:8080/",
     "height": 1000
    },
    "id": "aaJpQWsQ1ZUx",
    "outputId": "0eff21c0-779c-4dea-e758-72b54ceb920d",
    "tags": []
   },
   "outputs": [],
   "source": [
    "for i in range(20):\n",
    "    print(f\"Random State: {i}\")\n",
    "    maps, wts, _ = run_ica(sim_data.copy(), wave_list, 3, i, algorithm = 'deflation')\n",
    "    plot_comps_2d(maps, wave_list, wts, figsize = (10, 3), order = [0, 1, 2])"
   ]
  },
  {
   "cell_type": "code",
   "execution_count": null,
   "metadata": {
    "colab": {
     "base_uri": "https://localhost:8080/",
     "height": 498
    },
    "id": "wCkZcSjewVvt",
    "outputId": "d8853ca2-2160-45b1-c5c1-580776f223ab",
    "tags": []
   },
   "outputs": [],
   "source": [
    "order = [2, 1, 0]\n",
    "maps, wts, model = run_ica(sim_data.copy(), wave_list, 3, 0, algorithm = 'parallel')\n",
    "plot_comps_2d(maps, wave_list, np.linalg.pinv(model.components_), xticks = wave_list, clim = [None]*3, order = order)"
   ]
  },
  {
   "cell_type": "code",
   "execution_count": null,
   "metadata": {},
   "outputs": [],
   "source": [
    "plot_3d_multiple(Y*1000, X*1000, maps, title = legend[:3], cmap = 'jet', clim = [[0, np.max(maps)]]*3, order = order)"
   ]
  },
  {
   "cell_type": "markdown",
   "metadata": {},
   "source": [
    "### Non-Negative ICA"
   ]
  },
  {
   "cell_type": "code",
   "execution_count": null,
   "metadata": {},
   "outputs": [],
   "source": [
    "train_data = sim_data.copy().reshape((10, -1)).T\n",
    "nnmdl = NNICA(n_components = 3)\n",
    "nnmdl.fit(train_data)"
   ]
  },
  {
   "cell_type": "code",
   "execution_count": null,
   "metadata": {
    "colab": {
     "base_uri": "https://localhost:8080/",
     "height": 485
    },
    "id": "tDI56cqVHHLA",
    "outputId": "23e58458-0fef-4005-c175-9a6fe7a009e4",
    "tags": []
   },
   "outputs": [],
   "source": [
    "depth = 40\n",
    "hbhbo2fat = np.copy(coeffs)[:, 0:3]\n",
    "sim_data_test = np.array([np.array(loadmat(f\"../data/hb_hbo2_fat_29_{depth}/PA_Image_{wave}.mat\")['Image_PA']) for wave in wave_list])\n",
    "sim_data_test = sim_data_test.reshape((10, 396 * 101)).T\n",
    "sim_data_test -= model.mean_\n",
    "test_comps = np.matmul(model.components_, sim_data_test.T).reshape((3, 396, 101)).transpose((1, 2, 0))\n",
    "plot_comps_2d(test_comps, wave_list, np.linalg.pinv(model.components_), order = order, clim = [None]*3)"
   ]
  },
  {
   "cell_type": "code",
   "execution_count": null,
   "metadata": {},
   "outputs": [],
   "source": [
    "plot_3d_multiple(Y*1000, X*1000, test_comps, title = legend[:3], cmap = 'jet', clim = [None]*3, order = order)"
   ]
  },
  {
   "cell_type": "markdown",
   "metadata": {
    "id": "FZ6qftdnp0KF",
    "tags": []
   },
   "source": [
    "## 10 Wavelengths Experimental Results\n",
    "\n",
    "```python\n",
    "f = loadmat(\"./expdata/All Animal Results to Date/CONTROL MICE/03.31 Exp 2 (10 WV)/ALL_FRAMES_MOTIONREMOVED.mat\")\n",
    "\n",
    "f = loadmat(\"./expdata/All Animal Results to Date/CONTROL MICE/03.31 Exp 7 (10 WV)/SUMMARY_DATA.mat\")\n",
    "\n",
    "f = loadmat(\"./expdata/All Animal Results to Date/DKO MICE/01.20 Exp 19 (10 WV)/SUMMARY_FRAMES.mat\")\n",
    "\n",
    "f = loadmat(\"./expdata/All Animal Results to Date/EX VIVO SKIN SAMPLES/01.28 Exp 23/SUMMARY_FRAMES.mat\")\n",
    "```\n",
    "\n",
    "## 6 Wavelengths Experimental Results\n",
    "\n",
    "```python\n",
    "f = loadmat(\"./expdata/All Animal Results to Date/EX VIVO SKIN SAMPLES/01.28 Exp 22/SUMMARY_FRAMES.mat\")\n",
    "```"
   ]
  },
  {
   "cell_type": "code",
   "execution_count": null,
   "metadata": {},
   "outputs": [],
   "source": [
    "os.listdir('./expdata/All Animal Results to Date/APOE MICE')"
   ]
  },
  {
   "cell_type": "code",
   "execution_count": null,
   "metadata": {
    "tags": []
   },
   "outputs": [],
   "source": [
    "f = loadmat(\"./expdata/All Animal Results to Date/APOE MICE/01.28 Exp 16/SUMMARY_FRAMES.mat\")\n",
    "exp_wave_list = [int(key[-3:]) for key in f.keys() if key[:3] == 'all']\n",
    "exp_img = np.array([np.mean(f[f'all{wave}'], axis = 2) for wave in exp_wave_list]).transpose((1, 2, 0))[55:125, 50:150, :]\n",
    "exp_img = exp_img.transpose((2, 0, 1))\n",
    "\n",
    "exp_img_plot = normalize(exp_img.copy())\n",
    "plt.figure(figsize = (24, 7))\n",
    "for i, wave in enumerate(exp_wave_list):\n",
    "    plt.subplot(2, len(wave_list) // 2, i+1)\n",
    "    plt.imshow(exp_img_plot[i], cmap = \"hot\")\n",
    "    plt.title(f\"{wave} nm\")\n",
    "    plt.colorbar()\n",
    "plt.show()\n",
    "del exp_img_plot"
   ]
  },
  {
   "cell_type": "markdown",
   "metadata": {},
   "source": [
    "### Linear Unmixing"
   ]
  },
  {
   "cell_type": "code",
   "execution_count": null,
   "metadata": {
    "tags": []
   },
   "outputs": [],
   "source": [
    "exp_unmixed = run_linear_unmixing(normalize(exp_img.copy()), hbhbo2fat)\n",
    "plot_comps_2d(exp_unmixed, wave_list, hbhbo2fat, \"Linear Unmixing\", (18, 4), order = [0, 1, 2], xticks = wave_list, clim = [None]*3)"
   ]
  },
  {
   "cell_type": "markdown",
   "metadata": {},
   "source": [
    "### FastICA"
   ]
  },
  {
   "cell_type": "code",
   "execution_count": null,
   "metadata": {
    "tags": []
   },
   "outputs": [],
   "source": [
    "exp_test_data = normalize(exp_img.copy()).transpose((1, 2, 0)).reshape((-1, len(wave_list)))\n",
    "exp_test_data -= model.mean_\n",
    "exp_test_comps = np.matmul(model.components_, exp_test_data.T).T.reshape((exp_img.shape[1], exp_img.shape[2], 3))\n",
    "exp_test_comps[exp_test_comps < 0] = 0\n",
    "plot_comps_2d(exp_test_comps, wave_list, np.linalg.pinv(model.components_), \"ICA\", (18, 4), order = order, clim = [None, None, None], xticks = wave_list)"
   ]
  },
  {
   "cell_type": "markdown",
   "metadata": {},
   "source": [
    "### NMF"
   ]
  },
  {
   "cell_type": "code",
   "execution_count": null,
   "metadata": {},
   "outputs": [],
   "source": [
    "nmf_model_exp = NMF(n_components = 3)\n",
    "exp_test_data = normalize(exp_img.copy()).transpose((1, 2, 0)).reshape((-1, len(wave_list)))\n",
    "nmf_test_comps = nmf_model_exp.fit_transform(exp_test_data).reshape((exp_img.shape[1], exp_img.shape[2], 3))\n",
    "plot_comps_2d(nmf_test_comps, wave_list, np.linalg.pinv(nmf_model_exp.components_), order = [0, 1, 2], clim = [None]*3, figsize = (18, 4))"
   ]
  },
  {
   "cell_type": "markdown",
   "metadata": {},
   "source": [
    "### NMF GD"
   ]
  },
  {
   "cell_type": "code",
   "execution_count": null,
   "metadata": {},
   "outputs": [],
   "source": [
    "nmf_model_test_exp = NMFGD(n_components = 3, randominit = True)\n",
    "nmf_model_test_exp.fit(normalize(exp_img.copy()).reshape((len(wave_list), -1)), maxiter = 1200)"
   ]
  },
  {
   "cell_type": "code",
   "execution_count": null,
   "metadata": {},
   "outputs": [],
   "source": [
    "plot_comps_2d(nmf_model_test_exp.H.T.reshape((exp_img.shape[1], exp_img.shape[2], 3)), wave_list, nmf_model_test_exp.W, order = [0, 1, 2], clim = [None]*3)"
   ]
  },
  {
   "cell_type": "markdown",
   "metadata": {},
   "source": [
    "### VCA"
   ]
  },
  {
   "cell_type": "code",
   "execution_count": null,
   "metadata": {},
   "outputs": [],
   "source": [
    "vca_test_comps = np.matmul(np.linalg.pinv(ae), exp_test_data.copy().T).reshape((3, exp_img.shape[1], exp_img.shape[2])).transpose((1, 2, 0))\n",
    "vca_test_comps[vca_test_comps < 0] = 0\n",
    "plot_comps_2d(vca_test_comps.copy(), wave_list, ae, order = [2, 0, 1], clim = [None, None, None], figsize = (18, 4))"
   ]
  },
  {
   "cell_type": "markdown",
   "metadata": {},
   "source": [
    "## Constrained AE"
   ]
  },
  {
   "cell_type": "code",
   "execution_count": null,
   "metadata": {},
   "outputs": [],
   "source": [
    "from utils import *\n",
    "from datasets import ZCA\n",
    "from unmix_constrained import *\n",
    "from datasets import SingleCholesterolDataset"
   ]
  },
  {
   "cell_type": "code",
   "execution_count": null,
   "metadata": {},
   "outputs": [],
   "source": [
    "BATCH_SIZE = 396*101\n",
    "EPOCHS = 150\n",
    "LRATE = 7e-3\n",
    "NCOMP = 3\n",
    "SEED = 9\n",
    "negexp = 1.5\n",
    "beta = 1\n",
    "torch.manual_seed(seed = SEED)\n",
    "data = SingleCholesterolDataset(root = './data/hb_hbo2_fat_11', wavelist = 'EXP10', depth = [20], whiten = 'zca', normalize = True)\n",
    "dataloader = DataLoader(data, batch_size = BATCH_SIZE, shuffle = False, num_workers = 16)\n",
    "device = torch.device('cuda' if torch.cuda.is_available() else 'cpu')\n",
    "model = AutoEncoder(len(data.wavelist), NCOMP, activation = 'tsigmoid', tied = True).to(device = device)\n",
    "criterion = nn.MSELoss()\n",
    "optimizer = torch.optim.Adam(model.parameters(), lr = LRATE)\n",
    "scheduler = torch.optim.lr_scheduler.ReduceLROnPlateau(optimizer, mode = 'min', factor = 0.5, patience = 10, verbose = True)\n",
    "losses = []\n",
    "model.train()\n",
    "for epoch in (t := trange(EPOCHS)):\n",
    "    epochloss = []\n",
    "    for batch in dataloader:\n",
    "        epochloss = []\n",
    "        batch = batch.to(device)\n",
    "        optimizer.zero_grad()\n",
    "        encoded, decoded = model.forward(batch)\n",
    "        mse = criterion(decoded, batch)\n",
    "        negentropy = torch.abs(-(torch.mean(-torch.exp(- negexp * (encoded ** 2) / 2)) - torch.mean(-torch.exp(- negexp * (torch.randn_like(encoded)) ** 2 / 2))))\n",
    "        loss = ((beta * mse) + ((1 - beta) * negentropy)) if beta != 1 else (mse + negentropy)\n",
    "        loss.backward()\n",
    "        optimizer.step()\n",
    "        epochloss.append(loss.item())\n",
    "        t.update(1)\n",
    "        t.set_description_str(f'EPOCH: [{epoch + 1}/{EPOCHS}]')\n",
    "        t.set_postfix_str(f'MSELOSS: {mse.item():.3f} NEGENTROPY: {negentropy.item():.3f}')\n",
    "    epochlossmean = sum(epochloss) / len(epochloss)\n",
    "    scheduler.step(epochlossmean)\n",
    "    losses.append(epochlossmean)\n",
    "    if epochlossmean < 0.02:\n",
    "        break"
   ]
  },
  {
   "cell_type": "code",
   "execution_count": null,
   "metadata": {},
   "outputs": [],
   "source": [
    "data = SingleCholesterolDataset(root = './data/hb_hbo2_fat_11', wavelist = 'EXP10', depth = [20], whiten = 'zca', normalize = True)\n",
    "imgdata = data[0].clone().numpy().T.reshape((10, 396, 101))\n",
    "plt.figure(figsize = (20, 4))\n",
    "for idx in range(data[0].shape[-1]):\n",
    "    plt.subplot(1, 10, idx + 1)\n",
    "    plt.imshow(imgdata[idx], cmap = 'hot')\n",
    "    plt.colorbar()\n",
    "plt.show()"
   ]
  },
  {
   "cell_type": "code",
   "execution_count": null,
   "metadata": {},
   "outputs": [],
   "source": [
    "imgdata = decoded[0].cpu().detach().numpy().T.reshape((10, 396, 101))\n",
    "plt.figure(figsize = (20, 4))\n",
    "for idx in range(data[0].shape[-1]):\n",
    "    plt.subplot(1, 10, idx + 1)\n",
    "    plt.imshow(imgdata[idx], cmap = 'hot')\n",
    "    plt.colorbar()\n",
    "plt.show()"
   ]
  },
  {
   "cell_type": "code",
   "execution_count": null,
   "metadata": {},
   "outputs": [],
   "source": [
    "plt.figure(figsize = (8, 5))\n",
    "plt.plot(list(range(len(losses))), losses)\n",
    "plt.show()"
   ]
  },
  {
   "cell_type": "code",
   "execution_count": null,
   "metadata": {},
   "outputs": [],
   "source": [
    "sim_data = np.array([np.array(loadmat(f'./data/hb_hbo2_fat_11_20/PA_Image_{wave}.mat')['Image_PA']) for wave in data.wavelist])\n",
    "c, h, w = sim_data.shape\n",
    "sim_data = sim_data.transpose((1, 2, 0)).reshape((h*w, c))\n",
    "zca = ZCA()\n",
    "sim_data = zca.fit_transform(sim_data)\n",
    "sim_data = torch.tensor(np.expand_dims(sim_data, axis = 0), dtype = torch.float32)\n",
    "preds = np.array(model.encode(sim_data.to(device)).cpu().detach())[0].reshape((h, w, NCOMP))\n",
    "\n",
    "plot_comps_2d(preds, data.wavelist, model.encw.detach().cpu().numpy(), order = [0, 1, 2], xticks = data.wavelist, title = 'CONSTRAINED AE', save = False, chrom = list(range(3)))"
   ]
  }
 ],
 "metadata": {
  "colab": {
   "collapsed_sections": [
    "W2ud3jMdPDgO",
    "ftV0pTUB0IYW"
   ],
   "provenance": []
  },
  "kernelspec": {
   "display_name": "Python 3 (ipykernel)",
   "language": "python",
   "name": "python3"
  },
  "language_info": {
   "codemirror_mode": {
    "name": "ipython",
    "version": 3
   },
   "file_extension": ".py",
   "mimetype": "text/x-python",
   "name": "python",
   "nbconvert_exporter": "python",
   "pygments_lexer": "ipython3",
   "version": "3.9.16"
  }
 },
 "nbformat": 4,
 "nbformat_minor": 4
}
