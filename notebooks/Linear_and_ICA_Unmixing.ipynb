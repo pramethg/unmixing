{
  "nbformat": 4,
  "nbformat_minor": 0,
  "metadata": {
    "colab": {
      "provenance": [],
      "mount_file_id": "1YP665PjJkdnHea4k4na3PqplFqhTSrMJ",
      "authorship_tag": "ABX9TyMwmLW8HFx068fVP1EfQKfI",
      "include_colab_link": true
    },
    "kernelspec": {
      "name": "python3",
      "display_name": "Python 3"
    },
    "language_info": {
      "name": "python"
    }
  },
  "cells": [
    {
      "cell_type": "markdown",
      "metadata": {
        "id": "view-in-github",
        "colab_type": "text"
      },
      "source": [
        "<a href=\"https://colab.research.google.com/github/pramethg/unmixing/blob/main/notebooks/Linear_and_ICA_Unmixing.ipynb\" target=\"_parent\"><img src=\"https://colab.research.google.com/assets/colab-badge.svg\" alt=\"Open In Colab\"/></a>"
      ]
    },
    {
      "cell_type": "code",
      "execution_count": null,
      "metadata": {
        "id": "TKRFAaJypCKh"
      },
      "outputs": [],
      "source": [
        "!cp \"/content/drive/MyDrive/Datasets/utils.py\" .\n",
        "import os\n",
        "import warnings\n",
        "warnings.filterwarnings('ignore')\n",
        "import numpy as np\n",
        "from scipy.io import loadmat\n",
        "import matplotlib.pyplot as plt\n",
        "from scipy.optimize import nnls\n",
        "from sklearn.decomposition import FastICA\n",
        "from utils import *\n",
        "%matplotlib inline\n",
        "plt.style.use('dark_background')"
      ]
    },
    {
      "cell_type": "code",
      "source": [
        "!cp \"/content/drive/MyDrive/Datasets/unmix.mat\" .\n",
        "!cp \"/content/drive/MyDrive/Datasets/sim_hb_hbo2_fat_prostate_29.zip\" .\n",
        "!unzip -q sim_hb_hbo2_fat_prostate_29.zip\n",
        "!rm -rf sim_hb_hbo2_fat_prostate_29.zip\n",
        "f = loadmat('unmix.mat')\n",
        "X, Y = f['x'], f['y']\n",
        "\n",
        "wave_list = np.arange(700, 981, 10)\n",
        "abs_coeff, legend = {}, [\"HbO2\", \"Hb\", \"Cholesterol\", \"Prostate\", \"Water\"]\n",
        "wave_abs = np.load('/content/drive/MyDrive/Datasets/hbo2hbchpr_57.npy')\n",
        "\n",
        "for idx, wave in enumerate(np.arange(700, 981, 5)):\n",
        "    abs_coeff[wave] = (idx, wave_abs[idx])\n",
        "coeffs = np.vstack([abs_coeff[wave][1] for wave in wave_list])\n",
        "weights_plot(array = coeffs[:, 0:], wave_list = wave_list, legend = legend)"
      ],
      "metadata": {
        "id": "POCg3D-EtfE2"
      },
      "execution_count": null,
      "outputs": []
    },
    {
      "cell_type": "code",
      "source": [
        "depth = 15\n",
        "hbhbo2fat = np.copy(coeffs)[:, 0:3]\n",
        "sim_data = np.array([np.array(loadmat(f\"/content/sim_hb_hbo2_fat_prostate_29/hb_hbo2_fat_29_{depth}/PA_Image_{wave}.mat\")['Image_PA']) for wave in wave_list])\n",
        "unmixed = run_linear_unmixing(sim_data, hbhbo2fat)\n",
        "plot_3d_multiple(Y*1000, X*1000, unmixed, title = legend[:3], cmap = 'jet', clim = None, order = [0, 1, 2])"
      ],
      "metadata": {
        "id": "W7ZUqUzNvZz9"
      },
      "execution_count": null,
      "outputs": []
    },
    {
      "cell_type": "code",
      "source": [
        "maps, wts = run_ica(sim_data, wave_list, 3, None)\n",
        "plot_ica_2d(maps, wave_list, wts)\n",
        "# plot_3d_multiple(Y*1000, X*1000, maps, title = legend[:3], cmap = 'jet', clim = None, order = [1, 2, 0])"
      ],
      "metadata": {
        "id": "wCkZcSjewVvt"
      },
      "execution_count": null,
      "outputs": []
    },
    {
      "cell_type": "markdown",
      "source": [
        "## Experimental Cholesterol"
      ],
      "metadata": {
        "id": "LfGD4-M_0Y-v"
      }
    },
    {
      "cell_type": "code",
      "source": [],
      "metadata": {
        "id": "4XBI6NfE0cAp"
      },
      "execution_count": null,
      "outputs": []
    }
  ]
}